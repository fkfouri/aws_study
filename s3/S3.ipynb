{
 "cells": [
  {
   "cell_type": "markdown",
   "metadata": {},
   "source": [
    "# Exemplo de manipulacao SDK AWS Python \n",
    "Baseado no documento https://boto3.amazonaws.com/v1/documentation/api/latest/guide/quickstart.html"
   ]
  },
  {
   "cell_type": "markdown",
   "metadata": {},
   "source": [
    "Instalação biblioteca boto3"
   ]
  },
  {
   "cell_type": "code",
   "execution_count": 1,
   "metadata": {},
   "outputs": [
    {
     "name": "stdout",
     "output_type": "stream",
     "text": [
      "Collecting boto3\n",
      "  Downloading https://files.pythonhosted.org/packages/41/6d/607602d4e3c0452f6bec917e8c526ce7cb7aec617bab58c08b0308e7f265/boto3-1.12.9-py2.py3-none-any.whl (128kB)\n",
      "Collecting botocore<1.16.0,>=1.15.9 (from boto3)\n",
      "  Downloading https://files.pythonhosted.org/packages/93/06/d4490401f47b42000bf0c8bbb14a1c2b6922c4b042f87c4bda1cc34e9d31/botocore-1.15.9-py2.py3-none-any.whl (5.9MB)\n",
      "Collecting jmespath<1.0.0,>=0.7.1 (from boto3)\n",
      "  Downloading https://files.pythonhosted.org/packages/a3/43/1e939e1fcd87b827fe192d0c9fc25b48c5b3368902bfb913de7754b0dc03/jmespath-0.9.5-py2.py3-none-any.whl\n",
      "Collecting s3transfer<0.4.0,>=0.3.0 (from boto3)\n",
      "  Downloading https://files.pythonhosted.org/packages/69/79/e6afb3d8b0b4e96cefbdc690f741d7dd24547ff1f94240c997a26fa908d3/s3transfer-0.3.3-py2.py3-none-any.whl (69kB)\n",
      "Requirement already satisfied: urllib3<1.26,>=1.20; python_version != \"3.4\" in d:\\anaconda3\\lib\\site-packages (from botocore<1.16.0,>=1.15.9->boto3) (1.24.2)\n",
      "Requirement already satisfied: python-dateutil<3.0.0,>=2.1 in d:\\anaconda3\\lib\\site-packages (from botocore<1.16.0,>=1.15.9->boto3) (2.8.0)\n",
      "Requirement already satisfied: docutils<0.16,>=0.10 in d:\\anaconda3\\lib\\site-packages (from botocore<1.16.0,>=1.15.9->boto3) (0.15.2)\n",
      "Requirement already satisfied: six>=1.5 in d:\\anaconda3\\lib\\site-packages (from python-dateutil<3.0.0,>=2.1->botocore<1.16.0,>=1.15.9->boto3) (1.14.0)\n",
      "Installing collected packages: jmespath, botocore, s3transfer, boto3\n",
      "Successfully installed boto3-1.12.9 botocore-1.15.9 jmespath-0.9.5 s3transfer-0.3.3\n"
     ]
    }
   ],
   "source": [
    "!pip install boto3"
   ]
  },
  {
   "cell_type": "code",
   "execution_count": 2,
   "metadata": {},
   "outputs": [],
   "source": [
    "import boto3\n",
    "\n",
    "# Let's use Amazon S3\n",
    "s3 = boto3.resource('s3')"
   ]
  },
  {
   "cell_type": "markdown",
   "metadata": {},
   "source": [
    "Exibe todos os buckets do S3"
   ]
  },
  {
   "cell_type": "code",
   "execution_count": 3,
   "metadata": {},
   "outputs": [
    {
     "name": "stdout",
     "output_type": "stream",
     "text": [
      "estudo-aws-fabio\n",
      "estudo-aws-fk\n"
     ]
    }
   ],
   "source": [
    "for bucket in s3.buckets.all():\n",
    "    print(bucket.name)"
   ]
  },
  {
   "cell_type": "markdown",
   "metadata": {},
   "source": [
    "Exemplo de upload de um arquivo"
   ]
  },
  {
   "cell_type": "code",
   "execution_count": 4,
   "metadata": {},
   "outputs": [
    {
     "data": {
      "text/plain": [
       "s3.Object(bucket_name='estudo-aws-fk', key='IMG-20190511-WA0047.jpg')"
      ]
     },
     "execution_count": 4,
     "metadata": {},
     "output_type": "execute_result"
    }
   ],
   "source": [
    "# Upload a new file\n",
    "data = open('IMG-20190511-WA0047.jpg', 'rb')\n",
    "s3.Bucket('estudo-aws-fk').put_object(Key='IMG-20190511-WA0047.jpg', Body=data)"
   ]
  },
  {
   "cell_type": "markdown",
   "metadata": {},
   "source": [
    "Visualizando as Policies"
   ]
  },
  {
   "cell_type": "code",
   "execution_count": 5,
   "metadata": {},
   "outputs": [
    {
     "name": "stdout",
     "output_type": "stream",
     "text": [
      "{\"Version\":\"2012-10-17\",\"Id\":\"Policy1582751560618\",\"Statement\":[{\"Sid\":\"Stmt1582751558533\",\"Effect\":\"Allow\",\"Principal\":\"*\",\"Action\":\"s3:GetObject\",\"Resource\":\"arn:aws:s3:::estudo-aws-fk/*\"}]}\n"
     ]
    }
   ],
   "source": [
    "s3 = boto3.client('s3')\n",
    "result = s3.get_bucket_policy(Bucket='estudo-aws-fk')\n",
    "print(result['Policy'])"
   ]
  },
  {
   "cell_type": "markdown",
   "metadata": {},
   "source": [
    "Obtendo as permissoes de Acessos"
   ]
  },
  {
   "cell_type": "code",
   "execution_count": 6,
   "metadata": {},
   "outputs": [
    {
     "name": "stdout",
     "output_type": "stream",
     "text": [
      "{'ResponseMetadata': {'RequestId': '9B813C240000084F', 'HostId': 'Svt2GCLvqVEKGcBdgawuU+ILaVDrXJVOH03ZCHwqdUk/2Hwxpa9pTrKyS9YEJN3Vi/5FjQzZBgQ=', 'HTTPStatusCode': 200, 'HTTPHeaders': {'x-amz-id-2': 'Svt2GCLvqVEKGcBdgawuU+ILaVDrXJVOH03ZCHwqdUk/2Hwxpa9pTrKyS9YEJN3Vi/5FjQzZBgQ=', 'x-amz-request-id': '9B813C240000084F', 'date': 'Fri, 28 Feb 2020 01:27:09 GMT', 'content-type': 'application/xml', 'transfer-encoding': 'chunked', 'server': 'AmazonS3'}, 'RetryAttempts': 0}, 'Owner': {'DisplayName': 'a12453430', 'ID': '31c46cea1ba38cf35cae44d8d6418482e815fc36ddd49c0151757db8ee5c024d'}, 'Grants': [{'Grantee': {'DisplayName': 'a12453430', 'ID': '31c46cea1ba38cf35cae44d8d6418482e815fc36ddd49c0151757db8ee5c024d', 'Type': 'CanonicalUser'}, 'Permission': 'FULL_CONTROL'}]}\n"
     ]
    }
   ],
   "source": [
    "result = s3.get_bucket_acl(Bucket='estudo-aws-fk')\n",
    "print(result)"
   ]
  },
  {
   "cell_type": "code",
   "execution_count": null,
   "metadata": {},
   "outputs": [],
   "source": []
  }
 ],
 "metadata": {
  "kernelspec": {
   "display_name": "Python 3",
   "language": "python",
   "name": "python3"
  },
  "language_info": {
   "codemirror_mode": {
    "name": "ipython",
    "version": 3
   },
   "file_extension": ".py",
   "mimetype": "text/x-python",
   "name": "python",
   "nbconvert_exporter": "python",
   "pygments_lexer": "ipython3",
   "version": "3.7.4"
  }
 },
 "nbformat": 4,
 "nbformat_minor": 2
}
