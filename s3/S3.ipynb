{
 "cells": [
  {
   "cell_type": "markdown",
   "metadata": {},
   "source": [
    "# Exemplo de manipulacao SDK AWS Python \n",
    "\n",
    "Baseado no documento https://boto3.amazonaws.com/v1/documentation/api/latest/guide/quickstart.html\n",
    "\n",
    "Help: https://boto3.amazonaws.com/v1/documentation/api/latest/reference/services/s3.html#bucket"
   ]
  },
  {
   "cell_type": "markdown",
   "metadata": {},
   "source": [
    "Instalação biblioteca boto3"
   ]
  },
  {
   "cell_type": "code",
   "execution_count": 1,
   "metadata": {},
   "outputs": [
    {
     "name": "stdout",
     "output_type": "stream",
     "text": [
      "Requirement already satisfied: boto3 in d:\\anaconda3\\lib\\site-packages (1.12.9)\n",
      "Requirement already satisfied: botocore<1.16.0,>=1.15.9 in d:\\anaconda3\\lib\\site-packages (from boto3) (1.15.9)\n",
      "Requirement already satisfied: jmespath<1.0.0,>=0.7.1 in d:\\anaconda3\\lib\\site-packages (from boto3) (0.9.5)\n",
      "Requirement already satisfied: s3transfer<0.4.0,>=0.3.0 in d:\\anaconda3\\lib\\site-packages (from boto3) (0.3.3)\n",
      "Requirement already satisfied: urllib3<1.26,>=1.20; python_version != \"3.4\" in d:\\anaconda3\\lib\\site-packages (from botocore<1.16.0,>=1.15.9->boto3) (1.24.2)\n",
      "Requirement already satisfied: python-dateutil<3.0.0,>=2.1 in d:\\anaconda3\\lib\\site-packages (from botocore<1.16.0,>=1.15.9->boto3) (2.8.0)\n",
      "Requirement already satisfied: docutils<0.16,>=0.10 in d:\\anaconda3\\lib\\site-packages (from botocore<1.16.0,>=1.15.9->boto3) (0.15.2)\n",
      "Requirement already satisfied: six>=1.5 in d:\\anaconda3\\lib\\site-packages (from python-dateutil<3.0.0,>=2.1->botocore<1.16.0,>=1.15.9->boto3) (1.14.0)\n"
     ]
    }
   ],
   "source": [
    "!pip install boto3"
   ]
  },
  {
   "cell_type": "code",
   "execution_count": 2,
   "metadata": {},
   "outputs": [],
   "source": [
    "import boto3\n",
    "\n",
    "# Let's use Amazon S3\n",
    "s3 = boto3.resource('s3')"
   ]
  },
  {
   "cell_type": "markdown",
   "metadata": {},
   "source": [
    "Exibe todos os buckets do S3"
   ]
  },
  {
   "cell_type": "code",
   "execution_count": 3,
   "metadata": {},
   "outputs": [
    {
     "name": "stdout",
     "output_type": "stream",
     "text": [
      "estudo-aws-fabio\n",
      "estudo-aws-fk\n"
     ]
    }
   ],
   "source": [
    "for bucket in s3.buckets.all():\n",
    "    print(bucket.name)"
   ]
  },
  {
   "cell_type": "markdown",
   "metadata": {},
   "source": [
    "Exemplo de upload de um arquivo"
   ]
  },
  {
   "cell_type": "code",
   "execution_count": 4,
   "metadata": {},
   "outputs": [
    {
     "data": {
      "text/plain": [
       "s3.Object(bucket_name='estudo-aws-fk', key='IMG-20190511-WA0047.jpg')"
      ]
     },
     "execution_count": 4,
     "metadata": {},
     "output_type": "execute_result"
    }
   ],
   "source": [
    "# Upload a new file\n",
    "data = open('IMG-20190511-WA0047.jpg', 'rb')\n",
    "s3.Bucket('estudo-aws-fk').put_object(Key='IMG-20190511-WA0047.jpg', Body=data)"
   ]
  },
  {
   "cell_type": "markdown",
   "metadata": {},
   "source": [
    "Visualizando as Policies"
   ]
  },
  {
   "cell_type": "code",
   "execution_count": 5,
   "metadata": {},
   "outputs": [
    {
     "name": "stdout",
     "output_type": "stream",
     "text": [
      "{\"Version\":\"2012-10-17\",\"Id\":\"Policy1582751560618\",\"Statement\":[{\"Sid\":\"Stmt1582751558533\",\"Effect\":\"Allow\",\"Principal\":\"*\",\"Action\":\"s3:GetObject\",\"Resource\":\"arn:aws:s3:::estudo-aws-fk/*\"}]}\n"
     ]
    }
   ],
   "source": [
    "s3 = boto3.client('s3')\n",
    "result = s3.get_bucket_policy(Bucket='estudo-aws-fk')\n",
    "print(result['Policy'])"
   ]
  },
  {
   "cell_type": "markdown",
   "metadata": {},
   "source": [
    "Obtendo as permissoes de Acessos"
   ]
  },
  {
   "cell_type": "code",
   "execution_count": 6,
   "metadata": {},
   "outputs": [
    {
     "name": "stdout",
     "output_type": "stream",
     "text": [
      "{'ResponseMetadata': {'RequestId': '6B967B70EFEBED71', 'HostId': 'rKiAn9+nyfARy1b9G8nHYC4Ate65bAL9Cylme64xdKiIOpfkN/Z0glWSWiIOhxtGiZAkN5ACvUM=', 'HTTPStatusCode': 200, 'HTTPHeaders': {'x-amz-id-2': 'rKiAn9+nyfARy1b9G8nHYC4Ate65bAL9Cylme64xdKiIOpfkN/Z0glWSWiIOhxtGiZAkN5ACvUM=', 'x-amz-request-id': '6B967B70EFEBED71', 'date': 'Fri, 28 Feb 2020 02:08:40 GMT', 'content-type': 'application/xml', 'transfer-encoding': 'chunked', 'server': 'AmazonS3'}, 'RetryAttempts': 0}, 'Owner': {'DisplayName': 'a12453430', 'ID': '31c46cea1ba38cf35cae44d8d6418482e815fc36ddd49c0151757db8ee5c024d'}, 'Grants': [{'Grantee': {'DisplayName': 'a12453430', 'ID': '31c46cea1ba38cf35cae44d8d6418482e815fc36ddd49c0151757db8ee5c024d', 'Type': 'CanonicalUser'}, 'Permission': 'FULL_CONTROL'}]}\n"
     ]
    }
   ],
   "source": [
    "result = s3.get_bucket_acl(Bucket='estudo-aws-fk')\n",
    "print(result)"
   ]
  },
  {
   "cell_type": "markdown",
   "metadata": {},
   "source": [
    "## Criando um bucket"
   ]
  },
  {
   "cell_type": "code",
   "execution_count": 7,
   "metadata": {},
   "outputs": [
    {
     "data": {
      "text/plain": [
       "{'ResponseMetadata': {'RequestId': '716D560A2E08892D',\n",
       "  'HostId': 'UzknAGVm6EoiOy6648jVUJZM/9mu6crnu/USIy8jWLw/Hd4Ajrz9OqhPQrNvuoJXmBJqQHxlaQw=',\n",
       "  'HTTPStatusCode': 200,\n",
       "  'HTTPHeaders': {'x-amz-id-2': 'UzknAGVm6EoiOy6648jVUJZM/9mu6crnu/USIy8jWLw/Hd4Ajrz9OqhPQrNvuoJXmBJqQHxlaQw=',\n",
       "   'x-amz-request-id': '716D560A2E08892D',\n",
       "   'date': 'Fri, 28 Feb 2020 02:08:41 GMT',\n",
       "   'location': 'http://teste-123.s3.amazonaws.com/',\n",
       "   'content-length': '0',\n",
       "   'server': 'AmazonS3'},\n",
       "  'RetryAttempts': 0},\n",
       " 'Location': 'http://teste-123.s3.amazonaws.com/'}"
      ]
     },
     "execution_count": 7,
     "metadata": {},
     "output_type": "execute_result"
    }
   ],
   "source": [
    "region = \"us-west-2\"\n",
    "s3 = boto3.client('s3', region_name=region)\n",
    "location = {'LocationConstraint': region}\n",
    "s3.create_bucket(Bucket = \"teste-123\", CreateBucketConfiguration=location)"
   ]
  },
  {
   "cell_type": "markdown",
   "metadata": {},
   "source": [
    "Visualizando de outra maneira a lista de buckets"
   ]
  },
  {
   "cell_type": "code",
   "execution_count": 8,
   "metadata": {},
   "outputs": [
    {
     "name": "stdout",
     "output_type": "stream",
     "text": [
      "Existing buckets:\n",
      "  estudo-aws-fabio\n",
      "  estudo-aws-fk\n",
      "  teste-123\n"
     ]
    }
   ],
   "source": [
    "s3 = boto3.client('s3')\n",
    "response = s3.list_buckets()\n",
    "\n",
    "# Output the bucket names\n",
    "print('Existing buckets:')\n",
    "for bucket in response['Buckets']:\n",
    "    print(f'  {bucket[\"Name\"]}')"
   ]
  },
  {
   "cell_type": "markdown",
   "metadata": {},
   "source": [
    "<img src=\"2020_02_27_22_48_18_S3_Management_Console.png\" />"
   ]
  },
  {
   "cell_type": "markdown",
   "metadata": {},
   "source": [
    "## Removendo Bucket"
   ]
  },
  {
   "cell_type": "code",
   "execution_count": 9,
   "metadata": {},
   "outputs": [
    {
     "data": {
      "text/plain": [
       "{'ResponseMetadata': {'RequestId': '0445F451177B2F0E',\n",
       "  'HostId': 'U5Jov8j+0p9ygvKkBQIj6hYLzL8nOYREs8OhltMfIoaJUQecPmiITX9Xk+gTV88PxFrVpyQVvXA=',\n",
       "  'HTTPStatusCode': 204,\n",
       "  'HTTPHeaders': {'x-amz-id-2': 'U5Jov8j+0p9ygvKkBQIj6hYLzL8nOYREs8OhltMfIoaJUQecPmiITX9Xk+gTV88PxFrVpyQVvXA=',\n",
       "   'x-amz-request-id': '0445F451177B2F0E',\n",
       "   'date': 'Fri, 28 Feb 2020 02:08:44 GMT',\n",
       "   'server': 'AmazonS3'},\n",
       "  'RetryAttempts': 1}}"
      ]
     },
     "execution_count": 9,
     "metadata": {},
     "output_type": "execute_result"
    }
   ],
   "source": [
    "s3.delete_bucket(Bucket=\"teste-123\")"
   ]
  },
  {
   "cell_type": "code",
   "execution_count": 10,
   "metadata": {},
   "outputs": [
    {
     "name": "stdout",
     "output_type": "stream",
     "text": [
      "Existing buckets:\n",
      "  estudo-aws-fabio\n",
      "  estudo-aws-fk\n"
     ]
    }
   ],
   "source": [
    "response = s3.list_buckets()\n",
    "\n",
    "# Output the bucket names\n",
    "print('Existing buckets:')\n",
    "for bucket in response['Buckets']:\n",
    "    print(f'  {bucket[\"Name\"]}')"
   ]
  },
  {
   "cell_type": "markdown",
   "metadata": {},
   "source": [
    "## Listando objetos dentro de um Bucket"
   ]
  },
  {
   "cell_type": "code",
   "execution_count": 11,
   "metadata": {},
   "outputs": [
    {
     "name": "stdout",
     "output_type": "stream",
     "text": [
      "  ('305652_250803468381307_1953898180_n.jpg', 21044)\n",
      "  ('IMG-20190511-WA0047.jpg', 29096)\n",
      "  ('Led.jpg', 18465)\n",
      "  ('erro.html', 142)\n",
      "  ('index.html', 937)\n",
      "  ('test.txt', 24)\n"
     ]
    }
   ],
   "source": [
    "files = s3.list_objects(Bucket='estudo-aws-fk')\n",
    "for file in files['Contents']:\n",
    "    print(f'  {file[\"Key\"], file[\"Size\"]}')"
   ]
  },
  {
   "cell_type": "code",
   "execution_count": null,
   "metadata": {},
   "outputs": [],
   "source": []
  }
 ],
 "metadata": {
  "kernelspec": {
   "display_name": "Python 3",
   "language": "python",
   "name": "python3"
  },
  "language_info": {
   "codemirror_mode": {
    "name": "ipython",
    "version": 3
   },
   "file_extension": ".py",
   "mimetype": "text/x-python",
   "name": "python",
   "nbconvert_exporter": "python",
   "pygments_lexer": "ipython3",
   "version": "3.7.4"
  }
 },
 "nbformat": 4,
 "nbformat_minor": 2
}
