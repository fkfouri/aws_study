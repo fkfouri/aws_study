{
 "cells": [
  {
   "cell_type": "markdown",
   "metadata": {},
   "source": [
    "# Implementação AWS Elastic Beanstalk\n",
    "Sequencia para criação de um serviço utilziando boto3"
   ]
  },
  {
   "cell_type": "code",
   "execution_count": 1,
   "metadata": {},
   "outputs": [],
   "source": [
    "try:\n",
    "    !pip install boto3==\"1.13.1\" --quiet\n",
    "except:\n",
    "    print(\"Running throw py file.\")"
   ]
  },
  {
   "cell_type": "code",
   "execution_count": 2,
   "metadata": {},
   "outputs": [],
   "source": [
    "import boto3\n",
    "import os\n",
    "import subprocess\n",
    "import json"
   ]
  },
  {
   "cell_type": "markdown",
   "metadata": {},
   "source": [
    "## Preparando os serviços AWS Elastic Beanstalk\n",
    "Utilizando o doc https://boto3.amazonaws.com/v1/documentation/api/latest/reference/services/elasticbeanstalk.html como apoio"
   ]
  },
  {
   "cell_type": "code",
   "execution_count": 4,
   "metadata": {},
   "outputs": [],
   "source": [
    "bs_client = boto3.client('elasticbeanstalk')"
   ]
  },
  {
   "cell_type": "code",
   "execution_count": 6,
   "metadata": {},
   "outputs": [],
   "source": [
    "appName = 'CasaDoCodigoApp'\n",
    "appEnv = 'CasaDoCodigoEnv'\n",
    "appKey = 'CasaDoCodigo'\n",
    "my_tag = [{'Key': appKey, 'Value': 'string'}]"
   ]
  },
  {
   "cell_type": "markdown",
   "metadata": {},
   "source": [
    "Criando uma aplicação Elastic Beanstalk"
   ]
  },
  {
   "cell_type": "code",
   "execution_count": 7,
   "metadata": {},
   "outputs": [
    {
     "data": {
      "text/plain": [
       "{'Application': {'ApplicationArn': 'arn:aws:elasticbeanstalk:us-east-1:032594213725:application/CasaDoCodigoApp',\n",
       "  'ApplicationName': 'CasaDoCodigoApp',\n",
       "  'Description': 'Exemplo Alura de utilização de Elastic Beanstalk',\n",
       "  'DateCreated': datetime.datetime(2020, 5, 24, 3, 2, 1, 785000, tzinfo=tzutc()),\n",
       "  'DateUpdated': datetime.datetime(2020, 5, 24, 3, 2, 1, 785000, tzinfo=tzutc()),\n",
       "  'ConfigurationTemplates': [],\n",
       "  'ResourceLifecycleConfig': {'VersionLifecycleConfig': {'MaxCountRule': {'Enabled': False,\n",
       "     'MaxCount': 200,\n",
       "     'DeleteSourceFromS3': False},\n",
       "    'MaxAgeRule': {'Enabled': False,\n",
       "     'MaxAgeInDays': 180,\n",
       "     'DeleteSourceFromS3': False}}}},\n",
       " 'ResponseMetadata': {'RequestId': '0dd6be9d-1a1d-4710-8f73-e28a40511bff',\n",
       "  'HTTPStatusCode': 200,\n",
       "  'HTTPHeaders': {'content-type': 'text/xml',\n",
       "   'date': 'Sun, 24 May 2020 03:02:01 GMT',\n",
       "   'x-amzn-requestid': '0dd6be9d-1a1d-4710-8f73-e28a40511bff',\n",
       "   'content-length': '1229',\n",
       "   'connection': 'keep-alive'},\n",
       "  'RetryAttempts': 0}}"
      ]
     },
     "execution_count": 7,
     "metadata": {},
     "output_type": "execute_result"
    }
   ],
   "source": [
    "bs_client.create_application(\n",
    "    ApplicationName = appName,\n",
    "    Description = 'Exemplo Alura de utilização de Elastic Beanstalk',\n",
    "    Tags = my_tag\n",
    ")"
   ]
  },
  {
   "cell_type": "markdown",
   "metadata": {},
   "source": [
    "Identificando o Bucket criado"
   ]
  },
  {
   "cell_type": "code",
   "execution_count": 11,
   "metadata": {},
   "outputs": [
    {
     "data": {
      "text/plain": [
       "'elasticbeanstalk-us-east-1-032594213725'"
      ]
     },
     "execution_count": 11,
     "metadata": {},
     "output_type": "execute_result"
    }
   ],
   "source": [
    "my_bucket = bs_client.create_storage_location()['S3Bucket']\n",
    "my_bucket"
   ]
  },
  {
   "cell_type": "markdown",
   "metadata": {},
   "source": [
    "Retorna as descricoes de aplicacoes existentes."
   ]
  },
  {
   "cell_type": "code",
   "execution_count": 12,
   "metadata": {},
   "outputs": [
    {
     "data": {
      "text/plain": [
       "{'Applications': [{'ApplicationArn': 'arn:aws:elasticbeanstalk:us-east-1:032594213725:application/CasaDoCodigoApp',\n",
       "   'ApplicationName': 'CasaDoCodigoApp',\n",
       "   'Description': 'Exemplo Alura de utilização de Elastic Beanstalk',\n",
       "   'DateCreated': datetime.datetime(2020, 5, 24, 3, 2, 1, 785000, tzinfo=tzutc()),\n",
       "   'DateUpdated': datetime.datetime(2020, 5, 24, 3, 2, 1, 785000, tzinfo=tzutc()),\n",
       "   'ConfigurationTemplates': [],\n",
       "   'ResourceLifecycleConfig': {'VersionLifecycleConfig': {'MaxCountRule': {'Enabled': False,\n",
       "      'MaxCount': 200,\n",
       "      'DeleteSourceFromS3': False},\n",
       "     'MaxAgeRule': {'Enabled': False,\n",
       "      'MaxAgeInDays': 180,\n",
       "      'DeleteSourceFromS3': False}}}}],\n",
       " 'ResponseMetadata': {'RequestId': 'cc78dd8c-5adc-4561-adff-fadf0d826095',\n",
       "  'HTTPStatusCode': 200,\n",
       "  'HTTPHeaders': {'content-type': 'text/xml',\n",
       "   'date': 'Sun, 24 May 2020 03:21:58 GMT',\n",
       "   'x-amzn-requestid': 'cc78dd8c-5adc-4561-adff-fadf0d826095',\n",
       "   'content-length': '1314',\n",
       "   'connection': 'keep-alive'},\n",
       "  'RetryAttempts': 0}}"
      ]
     },
     "execution_count": 12,
     "metadata": {},
     "output_type": "execute_result"
    }
   ],
   "source": [
    "bs_app = bs_client.describe_applications(\n",
    "    ApplicationNames=[ appName, ])\n",
    "bs_app"
   ]
  },
  {
   "cell_type": "code",
   "execution_count": 13,
   "metadata": {},
   "outputs": [
    {
     "data": {
      "text/plain": [
       "'arn:aws:elasticbeanstalk:us-east-1:032594213725:application/CasaDoCodigoApp'"
      ]
     },
     "execution_count": 13,
     "metadata": {},
     "output_type": "execute_result"
    }
   ],
   "source": [
    "ApplicationArn = bs_app['Applications'][0]['ApplicationArn']\n",
    "ApplicationArn"
   ]
  },
  {
   "cell_type": "markdown",
   "metadata": {},
   "source": [
    "### Criar arquivo WAR da aplicação JAVA"
   ]
  },
  {
   "cell_type": "code",
   "execution_count": 14,
   "metadata": {},
   "outputs": [],
   "source": [
    "def run_command(command):\n",
    "    p = subprocess.Popen(command,\n",
    "                     stdout=subprocess.PIPE,\n",
    "                     stderr=subprocess.STDOUT)\n",
    "    return iter(p.stdout.readline, b'')"
   ]
  },
  {
   "cell_type": "code",
   "execution_count": 15,
   "metadata": {},
   "outputs": [
    {
     "name": "stdout",
     "output_type": "stream",
     "text": [
      "b'added manifest\\r\\n'\n",
      "b'adding: casadocodigo/.classpath(in = 1148) (out= 348)(deflated 69%)\\r\\n'\n",
      "b'adding: casadocodigo/.gitignore(in = 49) (out= 51)(deflated -4%)\\r\\n'\n",
      "b'adding: casadocodigo/.project(in = 1088) (out= 301)(deflated 72%)\\r\\n'\n",
      "b'adding: casadocodigo/.settings/(in = 0) (out= 0)(stored 0%)\\r\\n'\n",
      "b'adding: casadocodigo/.settings/.jsdtscope(in = 639) (out= 288)(deflated 54%)\\r\\n'\n",
      "b'adding: casadocodigo/.settings/org.eclipse.core.resources.prefs(in = 119) (out= 80)(deflated 32%)\\r\\n'\n",
      "b'adding: casadocodigo/.settings/org.eclipse.jdt.core.prefs(in = 616) (out= 193)(deflated 68%)\\r\\n'\n",
      "b'adding: casadocodigo/.settings/org.eclipse.m2e.core.prefs(in = 90) (out= 75)(deflated 16%)\\r\\n'\n",
      "b'adding: casadocodigo/.settings/org.eclipse.wst.common.component(in = 677) (out= 266)(deflated 60%)\\r\\n'\n",
      "b'adding: casadocodigo/.settings/org.eclipse.wst.common.project.facet.core.xml(in = 252) (out= 130)(deflated 48%)\\r\\n'\n",
      "b'adding: casadocodigo/.settings/org.eclipse.wst.jsdt.ui.superType.container(in = 49) (out= 51)(deflated -4%)\\r\\n'\n",
      "b'adding: casadocodigo/.settings/org.eclipse.wst.jsdt.ui.superType.name(in = 6) (out= 8)(deflated -33%)\\r\\n'\n",
      "b'adding: casadocodigo/.settings/org.eclipse.wst.validation.prefs(in = 50) (out= 52)(deflated -4%)\\r\\n'\n",
      "b'adding: casadocodigo/LICENSE(in = 1081) (out= 638)(deflated 40%)\\r\\n'\n",
      "b'adding: casadocodigo/pom.xml(in = 7227) (out= 1423)(deflated 80%)\\r\\n'\n",
      "b'adding: casadocodigo/Procfile(in = 117) (out= 109)(deflated 6%)\\r\\n'\n",
      "b'adding: casadocodigo/src/(in = 0) (out= 0)(stored 0%)\\r\\n'\n",
      "b'adding: casadocodigo/src/main/(in = 0) (out= 0)(stored 0%)\\r\\n'\n",
      "b'adding: casadocodigo/src/main/java/(in = 0) (out= 0)(stored 0%)\\r\\n'\n",
      "b'adding: casadocodigo/src/main/java/br/(in = 0) (out= 0)(stored 0%)\\r\\n'\n",
      "b'adding: casadocodigo/src/main/java/br/com/(in = 0) (out= 0)(stored 0%)\\r\\n'\n",
      "b'adding: casadocodigo/src/main/java/br/com/casadocodigo/(in = 0) (out= 0)(stored 0%)\\r\\n'\n",
      "b'adding: casadocodigo/src/main/java/br/com/casadocodigo/loja/(in = 0) (out= 0)(stored 0%)\\r\\n'\n",
      "b'adding: casadocodigo/src/main/java/br/com/casadocodigo/loja/configuration/(in = 0) (out= 0)(stored 0%)\\r\\n'\n",
      "b'adding: casadocodigo/src/main/java/br/com/casadocodigo/loja/configuration/AmazonConfiguration.java(in = 1308) (out= 516)(deflated 60%)\\r\\n'\n",
      "b'adding: casadocodigo/src/main/java/br/com/casadocodigo/loja/configuration/AppWebConfiguration.java(in = 5328) (out= 1335)(deflated 74%)\\r\\n'\n",
      "b'adding: casadocodigo/src/main/java/br/com/casadocodigo/loja/configuration/JPAConfiguration.java(in = 2517) (out= 721)(deflated 71%)\\r\\n'\n",
      "b'adding: casadocodigo/src/main/java/br/com/casadocodigo/loja/configuration/JsonViewResolver.java(in = 544) (out= 267)(deflated 50%)\\r\\n'\n",
      "b'adding: casadocodigo/src/main/java/br/com/casadocodigo/loja/configuration/ServletSpringMVC.java(in = 1677) (out= 585)(deflated 65%)\\r\\n'\n",
      "b'adding: casadocodigo/src/main/java/br/com/casadocodigo/loja/configuration/StandardContext.java(in = 88) (out= 84)(deflated 4%)\\r\\n'\n",
      "b'adding: casadocodigo/src/main/java/br/com/casadocodigo/loja/controllers/(in = 0) (out= 0)(stored 0%)\\r\\n'\n",
      "b'adding: casadocodigo/src/main/java/br/com/casadocodigo/loja/controllers/CarrinhoComprasController.java(in = 2140) (out= 661)(deflated 69%)\\r\\n'\n",
      "b'adding: casadocodigo/src/main/java/br/com/casadocodigo/loja/controllers/HomeController.java(in = 2319) (out= 911)(deflated 60%)\\r\\n'\n",
      "b'adding: casadocodigo/src/main/java/br/com/casadocodigo/loja/controllers/LoadBalancerController.java(in = 628) (out= 324)(deflated 48%)\\r\\n'\n",
      "b'adding: casadocodigo/src/main/java/br/com/casadocodigo/loja/controllers/LoginController.java(in = 384) (out= 209)(deflated 45%)\\r\\n'\n",
      "b'adding: casadocodigo/src/main/java/br/com/casadocodigo/loja/controllers/PagamentoController.java(in = 2301) (out= 828)(deflated 64%)\\r\\n'\n",
      "b'adding: casadocodigo/src/main/java/br/com/casadocodigo/loja/controllers/ProdutosController.java(in = 3507) (out= 1042)(deflated 70%)\\r\\n'\n",
      "b'adding: casadocodigo/src/main/java/br/com/casadocodigo/loja/daos/(in = 0) (out= 0)(stored 0%)\\r\\n'\n",
      "b'adding: casadocodigo/src/main/java/br/com/casadocodigo/loja/daos/ProdutoDAO.java(in = 1335) (out= 522)(deflated 60%)\\r\\n'\n",
      "b'adding: casadocodigo/src/main/java/br/com/casadocodigo/loja/daos/UsuarioDAO.java(in = 994) (out= 466)(deflated 53%)\\r\\n'\n",
      "b'adding: casadocodigo/src/main/java/br/com/casadocodigo/loja/infra/(in = 0) (out= 0)(stored 0%)\\r\\n'\n",
      "b'adding: casadocodigo/src/main/java/br/com/casadocodigo/loja/infra/prod/(in = 0) (out= 0)(stored 0%)\\r\\n'\n",
      "b'adding: casadocodigo/src/main/java/br/com/casadocodigo/loja/infra/prod/FileSaver.java(in = 1573) (out= 624)(deflated 60%)\\r\\n'\n",
      "b'adding: casadocodigo/src/main/java/br/com/casadocodigo/loja/models/(in = 0) (out= 0)(stored 0%)\\r\\n'\n",
      "b'adding: casadocodigo/src/main/java/br/com/casadocodigo/loja/models/CarrinhoCompras.java(in = 1555) (out= 612)(deflated 60%)\\r\\n'\n",
      "b'adding: casadocodigo/src/main/java/br/com/casadocodigo/loja/models/CarrinhoItem.java(in = 1515) (out= 548)(deflated 63%)\\r\\n'\n",
      "b'adding: casadocodigo/src/main/java/br/com/casadocodigo/loja/models/DadosPagamento.java(in = 288) (out= 158)(deflated 45%)\\r\\n'\n",
      "b'adding: casadocodigo/src/main/java/br/com/casadocodigo/loja/models/Preco.java(in = 638) (out= 299)(deflated 53%)\\r\\n'\n",
      "b'adding: casadocodigo/src/main/java/br/com/casadocodigo/loja/models/Produto.java(in = 2483) (out= 850)(deflated 65%)\\r\\n'\n",
      "b'adding: casadocodigo/src/main/java/br/com/casadocodigo/loja/models/Role.java(in = 552) (out= 274)(deflated 50%)\\r\\n'\n",
      "b'adding: casadocodigo/src/main/java/br/com/casadocodigo/loja/models/TipoPreco.java(in = 93) (out= 92)(deflated 1%)\\r\\n'\n",
      "b'adding: casadocodigo/src/main/java/br/com/casadocodigo/loja/models/Usuario.java(in = 1686) (out= 565)(deflated 66%)\\r\\n'\n",
      "b'adding: casadocodigo/src/main/java/br/com/casadocodigo/loja/validation/(in = 0) (out= 0)(stored 0%)\\r\\n'\n",
      "b'adding: casadocodigo/src/main/java/br/com/casadocodigo/loja/validation/ProdutoValidation.java(in = 756) (out= 330)(deflated 56%)\\r\\n'\n",
      "b'adding: casadocodigo/src/main/webapp/(in = 0) (out= 0)(stored 0%)\\r\\n'\n",
      "b'adding: casadocodigo/src/main/webapp/resources/(in = 0) (out= 0)(stored 0%)\\r\\n'\n",
      "b'adding: casadocodigo/src/main/webapp/resources/css/(in = 0) (out= 0)(stored 0%)\\r\\n'\n",
      "b'adding: casadocodigo/src/main/webapp/resources/css/book-collection.css(in = 1615) (out= 544)(deflated 66%)\\r\\n'\n",
      "b'adding: casadocodigo/src/main/webapp/resources/css/bootstrap-theme.css(in = 26132) (out= 2833)(deflated 89%)\\r\\n'\n",
      "b'adding: casadocodigo/src/main/webapp/resources/css/bootstrap-theme.css.map(in = 47706) (out= 7123)(deflated 85%)\\r\\n'\n",
      "b'adding: casadocodigo/src/main/webapp/resources/css/bootstrap-theme.min.css(in = 23409) (out= 2758)(deflated 88%)\\r\\n'\n",
      "b'adding: casadocodigo/src/main/webapp/resources/css/bootstrap-theme.min.css.map(in = 25648) (out= 5014)(deflated 80%)\\r\\n'\n",
      "b'adding: casadocodigo/src/main/webapp/resources/css/bootstrap.css(in = 145903) (out= 21302)(deflated 85%)\\r\\n'\n",
      "b'adding: casadocodigo/src/main/webapp/resources/css/bootstrap.css.map(in = 389287) (out= 74955)(deflated 80%)\\r\\n'\n",
      "b'adding: casadocodigo/src/main/webapp/resources/css/bootstrap.min.css(in = 121200) (out= 19722)(deflated 83%)\\r\\n'\n",
      "b'adding: casadocodigo/src/main/webapp/resources/css/bootstrap.min.css.map(in = 542194) (out= 100390)(deflated 81%)\\r\\n'\n",
      "b'adding: casadocodigo/src/main/webapp/resources/css/checkout-style.css(in = 86760) (out= 14746)(deflated 83%)\\r\\n'\n",
      "b'adding: casadocodigo/src/main/webapp/resources/css/checkout.scss.css(in = 43) (out= 45)(deflated -4%)\\r\\n'\n",
      "b'adding: casadocodigo/src/main/webapp/resources/css/cssbase-min.css(in = 2646) (out= 912)(deflated 65%)\\r\\n'\n",
      "b'adding: casadocodigo/src/main/webapp/resources/css/estilos-casadocodigo.css(in = 1517) (out= 515)(deflated 66%)\\r\\n'\n",
      "b'adding: casadocodigo/src/main/webapp/resources/css/fontello-embedded.css(in = 11124) (out= 6607)(deflated 40%)\\r\\n'\n",
      "b'adding: casadocodigo/src/main/webapp/resources/css/fontello-ie7.css(in = 360) (out= 244)(deflated 32%)\\r\\n'\n",
      "b'adding: casadocodigo/src/main/webapp/resources/css/fontello.css(in = 1456) (out= 727)(deflated 50%)\\r\\n'\n",
      "b'adding: casadocodigo/src/main/webapp/resources/css/fonts.css(in = 361) (out= 146)(deflated 59%)\\r\\n'\n",
      "b'adding: casadocodigo/src/main/webapp/resources/css/layout-colors.css(in = 5654) (out= 1488)(deflated 73%)\\r\\n'\n",
      "b'adding: casadocodigo/src/main/webapp/resources/css/produtos.css(in = 4260) (out= 1359)(deflated 68%)\\r\\n'\n",
      "b'adding: casadocodigo/src/main/webapp/resources/css/responsive-style.css(in = 7018) (out= 1465)(deflated 79%)\\r\\n'\n",
      "b'adding: casadocodigo/src/main/webapp/resources/css/style.css(in = 9436) (out= 2559)(deflated 72%)\\r\\n'\n",
      "b'adding: casadocodigo/src/main/webapp/resources/fonts/(in = 0) (out= 0)(stored 0%)\\r\\n'\n",
      "b'adding: casadocodigo/src/main/webapp/resources/fonts/glyphicons-halflings-regular.eot(in = 20127) (out= 20038)(deflated 0%)\\r\\n'\n",
      "b'adding: casadocodigo/src/main/webapp/resources/fonts/glyphicons-halflings-regular.svg(in = 108738) (out= 26799)(deflated 75%)\\r\\n'\n",
      "b'adding: casadocodigo/src/main/webapp/resources/fonts/glyphicons-halflings-regular.ttf(in = 45404) (out= 23366)(deflated 48%)\\r\\n'\n",
      "b'adding: casadocodigo/src/main/webapp/resources/fonts/glyphicons-halflings-regular.woff(in = 23424) (out= 23170)(deflated 1%)\\r\\n'\n",
      "b'adding: casadocodigo/src/main/webapp/resources/fonts/glyphicons-halflings-regular.woff2(in = 18028) (out= 18038)(deflated 0%)\\r\\n'\n",
      "b'adding: casadocodigo/src/main/webapp/resources/imagens/(in = 0) (out= 0)(stored 0%)\\r\\n'\n",
      "b'adding: casadocodigo/src/main/webapp/resources/imagens/cdc-logo.svg(in = 19652) (out= 7068)(deflated 64%)\\r\\n'\n",
      "b'adding: casadocodigo/src/main/webapp/resources/js/(in = 0) (out= 0)(stored 0%)\\r\\n'\n",
      "b'adding: casadocodigo/src/main/webapp/resources/js/bootstrap.js(in = 68890) (out= 14104)(deflated 79%)\\r\\n'\n",
      "b'adding: casadocodigo/src/main/webapp/resources/js/bootstrap.min.js(in = 36816) (out= 9725)(deflated 73%)\\r\\n'\n",
      "b'adding: casadocodigo/src/main/webapp/resources/js/npm.js(in = 484) (out= 185)(deflated 61%)\\r\\n'\n",
      "b'adding: casadocodigo/src/main/webapp/WEB-INF/(in = 0) (out= 0)(stored 0%)\\r\\n'\n",
      "b'adding: casadocodigo/src/main/webapp/WEB-INF/messages.properties(in = 740) (out= 340)(deflated 54%)\\r\\n'\n",
      "b'adding: casadocodigo/src/main/webapp/WEB-INF/messages_en_US.properties(in = 702) (out= 308)(deflated 56%)\\r\\n'\n",
      "b'adding: casadocodigo/src/main/webapp/WEB-INF/messages_pt.properties(in = 741) (out= 340)(deflated 54%)\\r\\n'\n",
      "b'adding: casadocodigo/src/main/webapp/WEB-INF/tags/(in = 0) (out= 0)(stored 0%)\\r\\n'\n",
      "b'adding: casadocodigo/src/main/webapp/WEB-INF/tags/pageTemplate.tag(in = 6895) (out= 1816)(deflated 73%)\\r\\n'\n",
      "b'adding: casadocodigo/src/main/webapp/WEB-INF/views/(in = 0) (out= 0)(stored 0%)\\r\\n'\n",
      "b'adding: casadocodigo/src/main/webapp/WEB-INF/views/cabecalho.jsp(in = 4638) (out= 1138)(deflated 75%)\\r\\n'\n",
      "b'adding: casadocodigo/src/main/webapp/WEB-INF/views/carrinho/(in = 0) (out= 0)(stored 0%)\\r\\n'\n",
      "b'adding: casadocodigo/src/main/webapp/WEB-INF/views/carrinho/itens.jsp(in = 6598) (out= 1989)(deflated 69%)\\r\\n'\n",
      "b'adding: casadocodigo/src/main/webapp/WEB-INF/views/error.jsp(in = 380) (out= 243)(deflated 36%)\\r\\n'\n",
      "b'adding: casadocodigo/src/main/webapp/WEB-INF/views/home.jsp(in = 2387) (out= 1049)(deflated 56%)\\r\\n'\n",
      "b'adding: casadocodigo/src/main/webapp/WEB-INF/views/loadbalancer.jsp(in = 46) (out= 37)(deflated 19%)\\r\\n'\n",
      "b'adding: casadocodigo/src/main/webapp/WEB-INF/views/loginForm.jsp(in = 1178) (out= 581)(deflated 50%)\\r\\n'\n",
      "b'adding: casadocodigo/src/main/webapp/WEB-INF/views/produtos/(in = 0) (out= 0)(stored 0%)\\r\\n'\n",
      "b'adding: casadocodigo/src/main/webapp/WEB-INF/views/produtos/detalhe.jsp(in = 3085) (out= 1272)(deflated 58%)\\r\\n'\n",
      "b'adding: casadocodigo/src/main/webapp/WEB-INF/views/produtos/form.jsp(in = 2962) (out= 1083)(deflated 63%)\\r\\n'\n",
      "b'adding: casadocodigo/src/main/webapp/WEB-INF/views/produtos/lista.jsp(in = 2409) (out= 995)(deflated 58%)\\r\\n'\n",
      "b'adding: casadocodigo/src/main/webapp/WEB-INF/views/produtos/ok.jsp(in = 306) (out= 227)(deflated 25%)\\r\\n'\n",
      "b'adding: casadocodigo/src/main/webapp/WEB-INF/views/rodape.jsp(in = 2878) (out= 917)(deflated 68%)\\r\\n'\n",
      "b'adding: casadocodigo/src/test/(in = 0) (out= 0)(stored 0%)\\r\\n'\n",
      "b'adding: casadocodigo/src/test/java/(in = 0) (out= 0)(stored 0%)\\r\\n'\n",
      "b'adding: casadocodigo/src/test/java/br/(in = 0) (out= 0)(stored 0%)\\r\\n'\n",
      "b'adding: casadocodigo/src/test/java/br/com/(in = 0) (out= 0)(stored 0%)\\r\\n'\n",
      "b'adding: casadocodigo/src/test/java/br/com/casadocodigo/(in = 0) (out= 0)(stored 0%)\\r\\n'\n",
      "b'adding: casadocodigo/src/test/java/br/com/casadocodigo/loja/(in = 0) (out= 0)(stored 0%)\\r\\n'\n",
      "b'adding: casadocodigo/src/test/java/br/com/casadocodigo/loja/builders/(in = 0) (out= 0)(stored 0%)\\r\\n'\n",
      "b'adding: casadocodigo/src/test/java/br/com/casadocodigo/loja/builders/ProdutoBuilder.java(in = 1577) (out= 556)(deflated 64%)\\r\\n'\n",
      "b'adding: casadocodigo/src/test/java/br/com/casadocodigo/loja/conf/(in = 0) (out= 0)(stored 0%)\\r\\n'\n",
      "b'adding: casadocodigo/src/test/java/br/com/casadocodigo/loja/conf/DataSourceConfigurationTest.java(in = 642) (out= 301)(deflated 53%)\\r\\n'\n",
      "b'adding: casadocodigo/src/test/java/br/com/casadocodigo/loja/controllers/(in = 0) (out= 0)(stored 0%)\\r\\n'\n",
      "b'adding: casadocodigo/src/test/java/br/com/casadocodigo/loja/controllers/ProdutosControllerTest.java(in = 2279) (out= 770)(deflated 66%)\\r\\n'\n",
      "b'adding: casadocodigo/src/test/java/br/com/casadocodigo/loja/daos/(in = 0) (out= 0)(stored 0%)\\r\\n'\n",
      "b'adding: casadocodigo/src/test/java/br/com/casadocodigo/loja/daos/ProdutoDAOTest.java(in = 1615) (out= 587)(deflated 63%)\\r\\n'\n",
      "b'adding: casadocodigo/target/(in = 0) (out= 0)(stored 0%)\\r\\n'\n",
      "b'adding: casadocodigo/target/classes/(in = 0) (out= 0)(stored 0%)\\r\\n'\n",
      "b'adding: casadocodigo/target/classes/br/(in = 0) (out= 0)(stored 0%)\\r\\n'\n",
      "b'adding: casadocodigo/target/classes/br/com/(in = 0) (out= 0)(stored 0%)\\r\\n'\n",
      "b'adding: casadocodigo/target/classes/br/com/casadocodigo/(in = 0) (out= 0)(stored 0%)\\r\\n'\n",
      "b'adding: casadocodigo/target/classes/br/com/casadocodigo/loja/(in = 0) (out= 0)(stored 0%)\\r\\n'\n",
      "b'adding: casadocodigo/target/classes/br/com/casadocodigo/loja/configuration/(in = 0) (out= 0)(stored 0%)\\r\\n'\n",
      "b'adding: casadocodigo/target/classes/br/com/casadocodigo/loja/configuration/AmazonConfiguration.class(in = 2943) (out= 1336)(deflated 54%)\\r\\n'\n",
      "b'adding: casadocodigo/target/classes/br/com/casadocodigo/loja/configuration/AppWebConfiguration.class(in = 7016) (out= 2592)(deflated 63%)\\r\\n'\n",
      "b'adding: casadocodigo/target/classes/br/com/casadocodigo/loja/configuration/JPAConfiguration.class(in = 3222) (out= 1399)(deflated 56%)\\r\\n'\n",
      "b'adding: casadocodigo/target/classes/br/com/casadocodigo/loja/configuration/JsonViewResolver.class(in = 910) (out= 483)(deflated 46%)\\r\\n'\n",
      "b'adding: casadocodigo/target/classes/br/com/casadocodigo/loja/configuration/ServletSpringMVC.class(in = 2435) (out= 1079)(deflated 55%)\\r\\n'\n",
      "b'adding: casadocodigo/target/classes/br/com/casadocodigo/loja/configuration/StandardContext.class(in = 348) (out= 232)(deflated 33%)\\r\\n'\n",
      "b'adding: casadocodigo/target/classes/br/com/casadocodigo/loja/controllers/(in = 0) (out= 0)(stored 0%)\\r\\n'\n",
      "b'adding: casadocodigo/target/classes/br/com/casadocodigo/loja/controllers/CarrinhoComprasController.class(in = 3955) (out= 1572)(deflated 60%)\\r\\n'\n",
      "b'adding: casadocodigo/target/classes/br/com/casadocodigo/loja/controllers/HomeController.class(in = 4078) (out= 1932)(deflated 52%)\\r\\n'\n",
      "b'adding: casadocodigo/target/classes/br/com/casadocodigo/loja/controllers/LoadBalancerController.class(in = 1239) (out= 658)(deflated 46%)\\r\\n'\n",
      "b'adding: casadocodigo/target/classes/br/com/casadocodigo/loja/controllers/LoginController.class(in = 706) (out= 405)(deflated 42%)\\r\\n'\n",
      "b'adding: casadocodigo/target/classes/br/com/casadocodigo/loja/controllers/PagamentoController.class(in = 4861) (out= 1949)(deflated 59%)\\r\\n'\n",
      "b'adding: casadocodigo/target/classes/br/com/casadocodigo/loja/controllers/ProdutosController.class(in = 6055) (out= 2386)(deflated 60%)\\r\\n'\n",
      "b'adding: casadocodigo/target/classes/br/com/casadocodigo/loja/daos/(in = 0) (out= 0)(stored 0%)\\r\\n'\n",
      "b'adding: casadocodigo/target/classes/br/com/casadocodigo/loja/daos/ProdutoDAO.class(in = 2313) (out= 1032)(deflated 55%)\\r\\n'\n",
      "b'adding: casadocodigo/target/classes/br/com/casadocodigo/loja/daos/UsuarioDAO.class(in = 2250) (out= 1072)(deflated 52%)\\r\\n'\n",
      "b'adding: casadocodigo/target/classes/br/com/casadocodigo/loja/infra/(in = 0) (out= 0)(stored 0%)\\r\\n'\n",
      "b'adding: casadocodigo/target/classes/br/com/casadocodigo/loja/infra/prod/(in = 0) (out= 0)(stored 0%)\\r\\n'\n",
      "b'adding: casadocodigo/target/classes/br/com/casadocodigo/loja/infra/prod/FileSaver.class(in = 2955) (out= 1351)(deflated 54%)\\r\\n'\n",
      "b'adding: casadocodigo/target/classes/br/com/casadocodigo/loja/models/(in = 0) (out= 0)(stored 0%)\\r\\n'\n",
      "b'adding: casadocodigo/target/classes/br/com/casadocodigo/loja/models/CarrinhoCompras.class(in = 3232) (out= 1425)(deflated 55%)\\r\\n'\n",
      "b'adding: casadocodigo/target/classes/br/com/casadocodigo/loja/models/CarrinhoItem.class(in = 2381) (out= 1061)(deflated 55%)\\r\\n'\n",
      "b'adding: casadocodigo/target/classes/br/com/casadocodigo/loja/models/DadosPagamento.class(in = 597) (out= 341)(deflated 42%)\\r\\n'\n",
      "b'adding: casadocodigo/target/classes/br/com/casadocodigo/loja/models/Preco.class(in = 1536) (out= 700)(deflated 54%)\\r\\n'\n",
      "b'adding: casadocodigo/target/classes/br/com/casadocodigo/loja/models/Produto.class(in = 4991) (out= 2035)(deflated 59%)\\r\\n'\n",
      "b'adding: casadocodigo/target/classes/br/com/casadocodigo/loja/models/Role.class(in = 943) (out= 514)(deflated 45%)\\r\\n'\n",
      "b'adding: casadocodigo/target/classes/br/com/casadocodigo/loja/models/TipoPreco.class(in = 1138) (out= 581)(deflated 48%)\\r\\n'\n",
      "b'adding: casadocodigo/target/classes/br/com/casadocodigo/loja/models/Usuario.class(in = 2549) (out= 1008)(deflated 60%)\\r\\n'\n",
      "b'adding: casadocodigo/target/classes/br/com/casadocodigo/loja/validation/(in = 0) (out= 0)(stored 0%)\\r\\n'\n",
      "b'adding: casadocodigo/target/classes/br/com/casadocodigo/loja/validation/ProdutoValidation.class(in = 1479) (out= 722)(deflated 51%)\\r\\n'\n",
      "b'adding: casadocodigo/target/m2e-wtp/(in = 0) (out= 0)(stored 0%)\\r\\n'\n",
      "b'adding: casadocodigo/target/m2e-wtp/web-resources/(in = 0) (out= 0)(stored 0%)\\r\\n'\n",
      "b'adding: casadocodigo/target/m2e-wtp/web-resources/META-INF/(in = 0) (out= 0)(stored 0%)\\r\\n'\n",
      "b'adding: casadocodigo/target/m2e-wtp/web-resources/META-INF/MANIFEST.MF(in = 109) (out= 101)(deflated 7%)\\r\\n'\n",
      "b'adding: casadocodigo/target/m2e-wtp/web-resources/META-INF/maven/(in = 0) (out= 0)(stored 0%)\\r\\n'\n",
      "b'adding: casadocodigo/target/m2e-wtp/web-resources/META-INF/maven/org.casadocodigo/(in = 0) (out= 0)(stored 0%)\\r\\n'\n",
      "b'adding: casadocodigo/target/m2e-wtp/web-resources/META-INF/maven/org.casadocodigo/casadocodigo/(in = 0) (out= 0)(stored 0%)\\r\\n'\n",
      "b'adding: casadocodigo/target/m2e-wtp/web-resources/META-INF/maven/org.casadocodigo/casadocodigo/pom.properties(in = 247) (out= 181)(deflated 26%)\\r\\n'\n",
      "b'adding: casadocodigo/target/m2e-wtp/web-resources/META-INF/maven/org.casadocodigo/casadocodigo/pom.xml(in = 7227) (out= 1423)(deflated 80%)\\r\\n'\n",
      "b'adding: casadocodigo/target/test-classes/(in = 0) (out= 0)(stored 0%)\\r\\n'\n",
      "b'adding: casadocodigo/target/test-classes/br/(in = 0) (out= 0)(stored 0%)\\r\\n'\n",
      "b'adding: casadocodigo/target/test-classes/br/com/(in = 0) (out= 0)(stored 0%)\\r\\n'\n",
      "b'adding: casadocodigo/target/test-classes/br/com/casadocodigo/(in = 0) (out= 0)(stored 0%)\\r\\n'\n",
      "b'adding: casadocodigo/target/test-classes/br/com/casadocodigo/loja/(in = 0) (out= 0)(stored 0%)\\r\\n'\n",
      "b'adding: casadocodigo/target/test-classes/br/com/casadocodigo/loja/builders/(in = 0) (out= 0)(stored 0%)\\r\\n'\n",
      "b'adding: casadocodigo/target/test-classes/br/com/casadocodigo/loja/builders/ProdutoBuilder.class(in = 3137) (out= 1399)(deflated 55%)\\r\\n'\n",
      "b'adding: casadocodigo/target/test-classes/br/com/casadocodigo/loja/conf/(in = 0) (out= 0)(stored 0%)\\r\\n'\n",
      "b'adding: casadocodigo/target/test-classes/br/com/casadocodigo/loja/conf/DataSourceConfigurationTest.class(in = 1042) (out= 581)(deflated 44%)\\r\\n'\n",
      "b'adding: casadocodigo/target/test-classes/br/com/casadocodigo/loja/controllers/(in = 0) (out= 0)(stored 0%)\\r\\n'\n",
      "b'adding: casadocodigo/target/test-classes/br/com/casadocodigo/loja/controllers/ProdutosControllerTest.class(in = 4545) (out= 1563)(deflated 65%)\\r\\n'\n",
      "b'adding: casadocodigo/target/test-classes/br/com/casadocodigo/loja/daos/(in = 0) (out= 0)(stored 0%)\\r\\n'\n",
      "b'adding: casadocodigo/target/test-classes/br/com/casadocodigo/loja/daos/ProdutoDAOTest.class(in = 3035) (out= 1316)(deflated 56%)\\r\\n'\n"
     ]
    }
   ],
   "source": [
    "for output_line in run_command('jar -cvf ROOT.war casadocodigo/*'):\n",
    "    print(output_line)"
   ]
  },
  {
   "cell_type": "markdown",
   "metadata": {},
   "source": [
    "## Upload to Bucket S3"
   ]
  },
  {
   "cell_type": "code",
   "execution_count": 37,
   "metadata": {},
   "outputs": [
    {
     "name": "stdout",
     "output_type": "stream",
     "text": [
      "elasticbeanstalk-us-east-1-032594213725\n",
      "estudo-aws-fabio\n",
      "estudo-aws-fk\n"
     ]
    }
   ],
   "source": [
    "s3 = boto3.resource('s3')\n",
    "s3_client = boto3.client('s3')\n",
    "\n",
    "# Listando todos os Buckets\n",
    "for bucket in s3.buckets.all():\n",
    "    print(bucket.name)"
   ]
  },
  {
   "cell_type": "markdown",
   "metadata": {},
   "source": [
    "Upload do arquivo WAR para o Bucket"
   ]
  },
  {
   "cell_type": "code",
   "execution_count": 25,
   "metadata": {},
   "outputs": [
    {
     "name": "stdout",
     "output_type": "stream",
     "text": [
      "It was uploaded the file 'ROOT.war' .\n"
     ]
    }
   ],
   "source": [
    "files = ['ROOT.war']\n",
    "dataPath = os.getcwd()\n",
    "\n",
    "for file in files: \n",
    "    file_name = dataPath + \"/\" + file\n",
    "    try:\n",
    "        response = s3_client.upload_file(file_name, my_bucket, \"app/\" + file)\n",
    "        print(\"It was uploaded the file\", \"'\" + file + \"'.\")\n",
    "    except ClientError as e:\n",
    "        logging.error(e)"
   ]
  },
  {
   "cell_type": "markdown",
   "metadata": {},
   "source": [
    "Criando uma TAG no Bucket Criado"
   ]
  },
  {
   "cell_type": "code",
   "execution_count": 26,
   "metadata": {},
   "outputs": [
    {
     "data": {
      "text/plain": [
       "{'ResponseMetadata': {'RequestId': '67B4107AA3965E3D',\n",
       "  'HostId': 'UJ095K1DGmN4pqXF7pvdSs2jcW6Y+ZADVX2xoO8CvxZ6ODeBDmBcoHWHTQrcsm59eAdXE0EZkRw=',\n",
       "  'HTTPStatusCode': 204,\n",
       "  'HTTPHeaders': {'x-amz-id-2': 'UJ095K1DGmN4pqXF7pvdSs2jcW6Y+ZADVX2xoO8CvxZ6ODeBDmBcoHWHTQrcsm59eAdXE0EZkRw=',\n",
       "   'x-amz-request-id': '67B4107AA3965E3D',\n",
       "   'date': 'Sun, 24 May 2020 03:36:30 GMT',\n",
       "   'server': 'AmazonS3'},\n",
       "  'RetryAttempts': 0}}"
      ]
     },
     "execution_count": 26,
     "metadata": {},
     "output_type": "execute_result"
    }
   ],
   "source": [
    "tag={'TagSet': my_tag}\n",
    "s3_client.put_bucket_tagging(Bucket=my_bucket, Tagging=tag)"
   ]
  },
  {
   "cell_type": "markdown",
   "metadata": {},
   "source": [
    "## Beanstalk Create Application Version\n",
    "Criando uma Application Version. Aqui que envio o arquivo WAR."
   ]
  },
  {
   "cell_type": "code",
   "execution_count": 33,
   "metadata": {},
   "outputs": [
    {
     "data": {
      "text/plain": [
       "{'ApplicationVersion': {'ApplicationVersionArn': 'arn:aws:elasticbeanstalk:us-east-1:032594213725:applicationversion/CasaDoCodigoApp/v1',\n",
       "  'ApplicationName': 'CasaDoCodigoApp',\n",
       "  'Description': 'string',\n",
       "  'VersionLabel': 'v1',\n",
       "  'SourceBundle': {'S3Bucket': 'elasticbeanstalk-us-east-1-032594213725',\n",
       "   'S3Key': 'app/ROOT.war'},\n",
       "  'DateCreated': datetime.datetime(2020, 5, 24, 3, 42, 15, 919000, tzinfo=tzutc()),\n",
       "  'DateUpdated': datetime.datetime(2020, 5, 24, 3, 42, 15, 919000, tzinfo=tzutc()),\n",
       "  'Status': 'PROCESSING'},\n",
       " 'ResponseMetadata': {'RequestId': '8f824e01-0157-41c2-b3ca-d01592b79a6a',\n",
       "  'HTTPStatusCode': 200,\n",
       "  'HTTPHeaders': {'content-type': 'text/xml',\n",
       "   'date': 'Sun, 24 May 2020 03:42:15 GMT',\n",
       "   'x-amzn-requestid': '8f824e01-0157-41c2-b3ca-d01592b79a6a',\n",
       "   'content-length': '935',\n",
       "   'connection': 'keep-alive'},\n",
       "  'RetryAttempts': 0}}"
      ]
     },
     "execution_count": 33,
     "metadata": {},
     "output_type": "execute_result"
    }
   ],
   "source": [
    "my_version = 'v1'\n",
    "\n",
    "bs_client.create_application_version(\n",
    "    ApplicationName=appName,\n",
    "    VersionLabel=my_version,\n",
    "    Description='string',\n",
    "    SourceBundle={\n",
    "        'S3Bucket': my_bucket,\n",
    "        'S3Key': 'app/ROOT.war'\n",
    "    },\n",
    "    Process=True,\n",
    ")"
   ]
  },
  {
   "cell_type": "markdown",
   "metadata": {},
   "source": [
    "Lista dos nomes de soluções AWS"
   ]
  },
  {
   "cell_type": "code",
   "execution_count": 35,
   "metadata": {},
   "outputs": [
    {
     "data": {
      "text/plain": [
       "['64bit Windows Server Core 2019 v2.5.6 running IIS 10.0',\n",
       " '64bit Windows Server 2019 v2.5.6 running IIS 10.0',\n",
       " '64bit Windows Server Core 2016 v2.5.6 running IIS 10.0',\n",
       " '64bit Windows Server 2016 v2.5.6 running IIS 10.0',\n",
       " '64bit Windows Server Core 2012 R2 v2.5.6 running IIS 8.5',\n",
       " '64bit Windows Server 2012 R2 v2.5.6 running IIS 8.5',\n",
       " '64bit Windows Server Core 2016 v1.2.0 running IIS 10.0',\n",
       " '64bit Windows Server 2016 v1.2.0 running IIS 10.0',\n",
       " '64bit Windows Server Core 2012 R2 v1.2.0 running IIS 8.5',\n",
       " '64bit Windows Server 2012 R2 v1.2.0 running IIS 8.5',\n",
       " '64bit Windows Server 2012 v1.2.0 running IIS 8',\n",
       " '64bit Amazon Linux 2018.03 v2.15.0 running GlassFish 5.0 Java 8 (Preconfigured - Docker)',\n",
       " '64bit Amazon Linux 2018.03 v2.10.7 running Java 8',\n",
       " '64bit Amazon Linux 2018.03 v2.10.7 running Java 7',\n",
       " '64bit Amazon Linux 2018.03 v4.14.3 running Node.js',\n",
       " '64bit Amazon Linux 2018.03 v2.9.6 running PHP 5.4',\n",
       " '64bit Amazon Linux 2018.03 v2.9.6 running PHP 5.5',\n",
       " '64bit Amazon Linux 2018.03 v2.9.6 running PHP 5.6',\n",
       " '64bit Amazon Linux 2018.03 v2.9.6 running PHP 7.0',\n",
       " '64bit Amazon Linux 2018.03 v2.9.6 running PHP 7.1',\n",
       " '64bit Amazon Linux 2018.03 v2.9.6 running PHP 7.2',\n",
       " '64bit Amazon Linux 2018.03 v2.9.6 running PHP 7.3',\n",
       " '64bit Amazon Linux 2018.03 v2.9.10 running Python 3.6',\n",
       " '64bit Amazon Linux 2018.03 v2.9.10 running Python 3.4',\n",
       " '64bit Amazon Linux 2018.03 v2.9.10 running Python',\n",
       " '64bit Amazon Linux 2018.03 v2.9.10 running Python 2.7',\n",
       " '64bit Amazon Linux 2018.03 v2.11.6 running Ruby 2.6 (Passenger Standalone)',\n",
       " '64bit Amazon Linux 2018.03 v2.11.6 running Ruby 2.5 (Passenger Standalone)',\n",
       " '64bit Amazon Linux 2018.03 v2.11.6 running Ruby 2.4 (Passenger Standalone)',\n",
       " '64bit Amazon Linux 2018.03 v2.11.6 running Ruby 2.3 (Passenger Standalone)',\n",
       " '64bit Amazon Linux 2018.03 v2.11.6 running Ruby 2.2 (Passenger Standalone)',\n",
       " '64bit Amazon Linux 2018.03 v2.11.6 running Ruby 2.1 (Passenger Standalone)',\n",
       " '64bit Amazon Linux 2018.03 v2.11.6 running Ruby 2.0 (Passenger Standalone)',\n",
       " '64bit Amazon Linux 2018.03 v2.11.6 running Ruby 1.9.3',\n",
       " '64bit Amazon Linux 2018.03 v2.11.6 running Ruby 2.6 (Puma)',\n",
       " '64bit Amazon Linux 2018.03 v2.11.6 running Ruby 2.5 (Puma)',\n",
       " '64bit Amazon Linux 2018.03 v2.11.6 running Ruby 2.4 (Puma)',\n",
       " '64bit Amazon Linux 2018.03 v2.11.6 running Ruby 2.3 (Puma)',\n",
       " '64bit Amazon Linux 2018.03 v2.11.6 running Ruby 2.2 (Puma)',\n",
       " '64bit Amazon Linux 2018.03 v2.11.6 running Ruby 2.1 (Puma)',\n",
       " '64bit Amazon Linux 2018.03 v2.11.6 running Ruby 2.0 (Puma)',\n",
       " '64bit Amazon Linux 2018.03 v3.3.6 running Tomcat 8.5 Java 8',\n",
       " '64bit Amazon Linux 2018.03 v3.3.6 running Tomcat 8 Java 8',\n",
       " '64bit Amazon Linux 2018.03 v3.3.6 running Tomcat 7 Java 7',\n",
       " '64bit Amazon Linux 2018.03 v3.3.6 running Tomcat 7 Java 6',\n",
       " '64bit Windows Server Core 2012 R2 running IIS 8.5',\n",
       " '64bit Windows Server 2012 R2 running IIS 8.5',\n",
       " '64bit Windows Server 2012 running IIS 8',\n",
       " '64bit Amazon Linux 2018.03 v2.15.0 running Docker 19.03.6-ce',\n",
       " '64bit Amazon Linux 2018.03 v2.20.2 running Multi-container Docker 19.03.6-ce (Generic)',\n",
       " '64bit Debian jessie v2.15.0 running Go 1.4 (Preconfigured - Docker)',\n",
       " '64bit Debian jessie v2.15.0 running Go 1.3 (Preconfigured - Docker)',\n",
       " '64bit Debian jessie v2.15.0 running Python 3.4 (Preconfigured - Docker)',\n",
       " '64bit Amazon Linux 2 v3.0.1 running Corretto 11',\n",
       " '64bit Amazon Linux 2 v3.0.1 running Corretto 8',\n",
       " '64bit Amazon Linux 2 v3.0.1 running Ruby 2.7',\n",
       " '64bit Amazon Linux 2 v3.0.1 running Ruby 2.6',\n",
       " '64bit Amazon Linux 2 v3.0.1 running Ruby 2.5',\n",
       " '64bit Amazon Linux 2 v5.0.1 running Node.js 12',\n",
       " '64bit Amazon Linux 2 v5.0.1 running Node.js 10',\n",
       " '64bit Amazon Linux 2 v3.0.1 running Docker',\n",
       " '64bit Amazon Linux 2 v3.0.1 running PHP 7.4',\n",
       " '64bit Amazon Linux 2 v3.0.1 running PHP 7.3',\n",
       " '64bit Amazon Linux 2 v3.0.1 running PHP 7.2',\n",
       " '64bit Amazon Linux 2 v3.0.1 running Go 1',\n",
       " '64bit Amazon Linux 2 v3.0.1 running Python 3.7',\n",
       " '64bit Amazon Linux 2018.03 v2.15.3 running Go 1.14.2',\n",
       " '64bit Amazon Linux 2018.03 v2.6.22 running Packer 1.0.3']"
      ]
     },
     "execution_count": 35,
     "metadata": {},
     "output_type": "execute_result"
    }
   ],
   "source": [
    "bs_client.list_available_solution_stacks()['SolutionStacks']\n"
   ]
  },
  {
   "cell_type": "raw",
   "metadata": {},
   "source": [
    "Criando um Enviroment para a applicacao, solicitando um Tomcat e JAVA"
   ]
  },
  {
   "cell_type": "code",
   "execution_count": 36,
   "metadata": {},
   "outputs": [
    {
     "data": {
      "text/plain": [
       "{'EnvironmentName': 'CasaDoCodigoEnv',\n",
       " 'EnvironmentId': 'e-n7k3mtrmcw',\n",
       " 'ApplicationName': 'CasaDoCodigoApp',\n",
       " 'SolutionStackName': '64bit Amazon Linux 2018.03 v3.3.6 running Tomcat 8.5 Java 8',\n",
       " 'PlatformArn': 'arn:aws:elasticbeanstalk:us-east-1::platform/Tomcat 8.5 with Java 8 running on 64bit Amazon Linux/3.3.6',\n",
       " 'CNAME': 'CasaDoCodigoApp.us-east-1.elasticbeanstalk.com',\n",
       " 'DateCreated': datetime.datetime(2020, 5, 24, 3, 45, 51, 258000, tzinfo=tzutc()),\n",
       " 'DateUpdated': datetime.datetime(2020, 5, 24, 3, 45, 51, 258000, tzinfo=tzutc()),\n",
       " 'Status': 'Launching',\n",
       " 'Health': 'Grey',\n",
       " 'Tier': {'Name': 'WebServer', 'Type': 'Standard', 'Version': '1.0'},\n",
       " 'EnvironmentArn': 'arn:aws:elasticbeanstalk:us-east-1:032594213725:environment/CasaDoCodigoApp/CasaDoCodigoEnv',\n",
       " 'ResponseMetadata': {'RequestId': '3f15507f-bd18-4411-8060-9cef32598bc9',\n",
       "  'HTTPStatusCode': 200,\n",
       "  'HTTPHeaders': {'content-type': 'text/xml',\n",
       "   'date': 'Sun, 24 May 2020 03:45:51 GMT',\n",
       "   'x-amzn-requestid': '3f15507f-bd18-4411-8060-9cef32598bc9',\n",
       "   'content-length': '1153',\n",
       "   'connection': 'keep-alive'},\n",
       "  'RetryAttempts': 0}}"
      ]
     },
     "execution_count": 36,
     "metadata": {},
     "output_type": "execute_result"
    }
   ],
   "source": [
    "bs_client.create_environment(\n",
    "    ApplicationName = appName,\n",
    "    EnvironmentName = appEnv,\n",
    "    CNAMEPrefix = appName,\n",
    "    Tags= my_tag,\n",
    "\n",
    "    SolutionStackName='64bit Amazon Linux 2018.03 v3.3.6 running Tomcat 8.5 Java 8'\n",
    ")"
   ]
  },
  {
   "cell_type": "markdown",
   "metadata": {},
   "source": [
    "Neste momento é criado o ambiente. A AWS criara uma instancia EC2"
   ]
  },
  {
   "cell_type": "code",
   "execution_count": 38,
   "metadata": {},
   "outputs": [
    {
     "data": {
      "text/plain": [
       "{'EnvironmentName': 'CasaDoCodigoEnv',\n",
       " 'EnvironmentId': 'e-n7k3mtrmcw',\n",
       " 'ApplicationName': 'CasaDoCodigoApp',\n",
       " 'VersionLabel': 'v1',\n",
       " 'SolutionStackName': '64bit Amazon Linux 2018.03 v3.3.6 running Tomcat 8.5 Java 8',\n",
       " 'PlatformArn': 'arn:aws:elasticbeanstalk:us-east-1::platform/Tomcat 8.5 with Java 8 running on 64bit Amazon Linux/3.3.6',\n",
       " 'EndpointURL': 'awseb-e-n-AWSEBLoa-TAI4JZV8SQQU-803235371.us-east-1.elb.amazonaws.com',\n",
       " 'CNAME': 'CasaDoCodigoApp.us-east-1.elasticbeanstalk.com',\n",
       " 'DateCreated': datetime.datetime(2020, 5, 24, 3, 45, 51, 226000, tzinfo=tzutc()),\n",
       " 'DateUpdated': datetime.datetime(2020, 5, 24, 3, 54, 29, 311000, tzinfo=tzutc()),\n",
       " 'Status': 'Updating',\n",
       " 'AbortableOperationInProgress': True,\n",
       " 'Health': 'Grey',\n",
       " 'Tier': {'Name': 'WebServer', 'Type': 'Standard', 'Version': '1.0'},\n",
       " 'EnvironmentArn': 'arn:aws:elasticbeanstalk:us-east-1:032594213725:environment/CasaDoCodigoApp/CasaDoCodigoEnv',\n",
       " 'ResponseMetadata': {'RequestId': '70949217-5533-4dd7-982d-aa67cc27dea4',\n",
       "  'HTTPStatusCode': 200,\n",
       "  'HTTPHeaders': {'content-type': 'text/xml',\n",
       "   'date': 'Sun, 24 May 2020 03:54:30 GMT',\n",
       "   'x-amzn-requestid': '70949217-5533-4dd7-982d-aa67cc27dea4',\n",
       "   'content-length': '1373',\n",
       "   'connection': 'keep-alive'},\n",
       "  'RetryAttempts': 0}}"
      ]
     },
     "execution_count": 38,
     "metadata": {},
     "output_type": "execute_result"
    }
   ],
   "source": [
    "bs_client.update_environment(\n",
    "            ApplicationName = appName,\n",
    "            EnvironmentName = appEnv,\n",
    "            VersionLabel=my_version,\n",
    "        )"
   ]
  },
  {
   "cell_type": "code",
   "execution_count": 40,
   "metadata": {},
   "outputs": [
    {
     "data": {
      "text/plain": [
       "{'ApplicationVersions': [{'ApplicationVersionArn': 'arn:aws:elasticbeanstalk:us-east-1:032594213725:applicationversion/CasaDoCodigoApp/v1',\n",
       "   'ApplicationName': 'CasaDoCodigoApp',\n",
       "   'Description': 'string',\n",
       "   'VersionLabel': 'v1',\n",
       "   'SourceBundle': {'S3Bucket': 'elasticbeanstalk-us-east-1-032594213725',\n",
       "    'S3Key': 'app/ROOT.war'},\n",
       "   'DateCreated': datetime.datetime(2020, 5, 24, 3, 42, 15, 919000, tzinfo=tzutc()),\n",
       "   'DateUpdated': datetime.datetime(2020, 5, 24, 3, 42, 15, 919000, tzinfo=tzutc()),\n",
       "   'Status': 'PROCESSED'}],\n",
       " 'ResponseMetadata': {'RequestId': '05525902-0342-4e77-a5c8-541f66417999',\n",
       "  'HTTPStatusCode': 200,\n",
       "  'HTTPHeaders': {'content-type': 'text/xml',\n",
       "   'date': 'Sun, 24 May 2020 04:11:45 GMT',\n",
       "   'x-amzn-requestid': '05525902-0342-4e77-a5c8-541f66417999',\n",
       "   'content-length': '1001',\n",
       "   'connection': 'keep-alive'},\n",
       "  'RetryAttempts': 0}}"
      ]
     },
     "execution_count": 40,
     "metadata": {},
     "output_type": "execute_result"
    }
   ],
   "source": [
    "bs_client.describe_application_versions(\n",
    "    ApplicationName=appName,\n",
    "    VersionLabels=[\n",
    "        my_version,\n",
    "    ],\n",
    ")"
   ]
  },
  {
   "cell_type": "code",
   "execution_count": null,
   "metadata": {},
   "outputs": [],
   "source": []
  },
  {
   "cell_type": "code",
   "execution_count": null,
   "metadata": {},
   "outputs": [],
   "source": []
  },
  {
   "cell_type": "code",
   "execution_count": null,
   "metadata": {},
   "outputs": [],
   "source": []
  },
  {
   "cell_type": "code",
   "execution_count": null,
   "metadata": {},
   "outputs": [],
   "source": []
  },
  {
   "cell_type": "code",
   "execution_count": null,
   "metadata": {},
   "outputs": [],
   "source": []
  },
  {
   "cell_type": "code",
   "execution_count": null,
   "metadata": {},
   "outputs": [],
   "source": []
  },
  {
   "cell_type": "code",
   "execution_count": null,
   "metadata": {},
   "outputs": [],
   "source": []
  },
  {
   "cell_type": "code",
   "execution_count": null,
   "metadata": {},
   "outputs": [],
   "source": []
  },
  {
   "cell_type": "code",
   "execution_count": null,
   "metadata": {},
   "outputs": [],
   "source": []
  },
  {
   "cell_type": "code",
   "execution_count": null,
   "metadata": {},
   "outputs": [],
   "source": []
  },
  {
   "cell_type": "code",
   "execution_count": null,
   "metadata": {},
   "outputs": [],
   "source": []
  },
  {
   "cell_type": "code",
   "execution_count": null,
   "metadata": {},
   "outputs": [],
   "source": []
  },
  {
   "cell_type": "code",
   "execution_count": null,
   "metadata": {},
   "outputs": [],
   "source": []
  },
  {
   "cell_type": "code",
   "execution_count": null,
   "metadata": {},
   "outputs": [],
   "source": []
  },
  {
   "cell_type": "markdown",
   "metadata": {},
   "source": []
  },
  {
   "cell_type": "code",
   "execution_count": null,
   "metadata": {},
   "outputs": [],
   "source": []
  },
  {
   "cell_type": "code",
   "execution_count": null,
   "metadata": {},
   "outputs": [],
   "source": []
  },
  {
   "cell_type": "code",
   "execution_count": null,
   "metadata": {},
   "outputs": [],
   "source": []
  },
  {
   "cell_type": "code",
   "execution_count": null,
   "metadata": {},
   "outputs": [],
   "source": []
  },
  {
   "cell_type": "code",
   "execution_count": null,
   "metadata": {},
   "outputs": [],
   "source": []
  },
  {
   "cell_type": "code",
   "execution_count": null,
   "metadata": {},
   "outputs": [],
   "source": []
  },
  {
   "cell_type": "code",
   "execution_count": null,
   "metadata": {},
   "outputs": [],
   "source": []
  },
  {
   "cell_type": "code",
   "execution_count": null,
   "metadata": {},
   "outputs": [],
   "source": []
  },
  {
   "cell_type": "code",
   "execution_count": null,
   "metadata": {},
   "outputs": [],
   "source": []
  },
  {
   "cell_type": "code",
   "execution_count": null,
   "metadata": {},
   "outputs": [],
   "source": []
  },
  {
   "cell_type": "code",
   "execution_count": 44,
   "metadata": {},
   "outputs": [
    {
     "data": {
      "text/plain": [
       "'CasaDoCodigoEnv'"
      ]
     },
     "execution_count": 44,
     "metadata": {},
     "output_type": "execute_result"
    }
   ],
   "source": [
    "appEnv"
   ]
  },
  {
   "cell_type": "code",
   "execution_count": 43,
   "metadata": {},
   "outputs": [
    {
     "data": {
      "text/plain": [
       "'CasaDoCodigoApp'"
      ]
     },
     "execution_count": 43,
     "metadata": {},
     "output_type": "execute_result"
    }
   ],
   "source": [
    "appName"
   ]
  },
  {
   "cell_type": "markdown",
   "metadata": {},
   "source": [
    "## Remove Aplicação Beanstalk\n",
    "\n",
    "Remove o enviroment configurations"
   ]
  },
  {
   "cell_type": "code",
   "execution_count": 42,
   "metadata": {},
   "outputs": [
    {
     "ename": "ParamValidationError",
     "evalue": "Parameter validation failed:\nUnknown parameter in input: \"ApplicationName\", must be one of: EnvironmentId, EnvironmentName, TerminateResources, ForceTerminate",
     "output_type": "error",
     "traceback": [
      "\u001b[1;31m---------------------------------------------------------------------------\u001b[0m",
      "\u001b[1;31mParamValidationError\u001b[0m                      Traceback (most recent call last)",
      "\u001b[1;32m<ipython-input-42-17498ba9fb33>\u001b[0m in \u001b[0;36m<module>\u001b[1;34m\u001b[0m\n\u001b[0;32m      1\u001b[0m bs_client.terminate_environment(\n\u001b[0;32m      2\u001b[0m     \u001b[0mApplicationName\u001b[0m\u001b[1;33m=\u001b[0m\u001b[0mappName\u001b[0m\u001b[1;33m,\u001b[0m\u001b[1;33m\u001b[0m\u001b[1;33m\u001b[0m\u001b[0m\n\u001b[1;32m----> 3\u001b[1;33m     \u001b[0mEnvironmentName\u001b[0m\u001b[1;33m=\u001b[0m\u001b[0mappEnv\u001b[0m\u001b[1;33m,\u001b[0m\u001b[1;33m\u001b[0m\u001b[1;33m\u001b[0m\u001b[0m\n\u001b[0m\u001b[0;32m      4\u001b[0m )\n",
      "\u001b[1;32mD:\\Anaconda3\\lib\\site-packages\\botocore\\client.py\u001b[0m in \u001b[0;36m_api_call\u001b[1;34m(self, *args, **kwargs)\u001b[0m\n\u001b[0;32m    314\u001b[0m                     \"%s() only accepts keyword arguments.\" % py_operation_name)\n\u001b[0;32m    315\u001b[0m             \u001b[1;31m# The \"self\" in this scope is referring to the BaseClient.\u001b[0m\u001b[1;33m\u001b[0m\u001b[1;33m\u001b[0m\u001b[1;33m\u001b[0m\u001b[0m\n\u001b[1;32m--> 316\u001b[1;33m             \u001b[1;32mreturn\u001b[0m \u001b[0mself\u001b[0m\u001b[1;33m.\u001b[0m\u001b[0m_make_api_call\u001b[0m\u001b[1;33m(\u001b[0m\u001b[0moperation_name\u001b[0m\u001b[1;33m,\u001b[0m \u001b[0mkwargs\u001b[0m\u001b[1;33m)\u001b[0m\u001b[1;33m\u001b[0m\u001b[1;33m\u001b[0m\u001b[0m\n\u001b[0m\u001b[0;32m    317\u001b[0m \u001b[1;33m\u001b[0m\u001b[0m\n\u001b[0;32m    318\u001b[0m         \u001b[0m_api_call\u001b[0m\u001b[1;33m.\u001b[0m\u001b[0m__name__\u001b[0m \u001b[1;33m=\u001b[0m \u001b[0mstr\u001b[0m\u001b[1;33m(\u001b[0m\u001b[0mpy_operation_name\u001b[0m\u001b[1;33m)\u001b[0m\u001b[1;33m\u001b[0m\u001b[1;33m\u001b[0m\u001b[0m\n",
      "\u001b[1;32mD:\\Anaconda3\\lib\\site-packages\\botocore\\client.py\u001b[0m in \u001b[0;36m_make_api_call\u001b[1;34m(self, operation_name, api_params)\u001b[0m\n\u001b[0;32m    597\u001b[0m         }\n\u001b[0;32m    598\u001b[0m         request_dict = self._convert_to_request_dict(\n\u001b[1;32m--> 599\u001b[1;33m             api_params, operation_model, context=request_context)\n\u001b[0m\u001b[0;32m    600\u001b[0m \u001b[1;33m\u001b[0m\u001b[0m\n\u001b[0;32m    601\u001b[0m         \u001b[0mservice_id\u001b[0m \u001b[1;33m=\u001b[0m \u001b[0mself\u001b[0m\u001b[1;33m.\u001b[0m\u001b[0m_service_model\u001b[0m\u001b[1;33m.\u001b[0m\u001b[0mservice_id\u001b[0m\u001b[1;33m.\u001b[0m\u001b[0mhyphenize\u001b[0m\u001b[1;33m(\u001b[0m\u001b[1;33m)\u001b[0m\u001b[1;33m\u001b[0m\u001b[1;33m\u001b[0m\u001b[0m\n",
      "\u001b[1;32mD:\\Anaconda3\\lib\\site-packages\\botocore\\client.py\u001b[0m in \u001b[0;36m_convert_to_request_dict\u001b[1;34m(self, api_params, operation_model, context)\u001b[0m\n\u001b[0;32m    645\u001b[0m             api_params, operation_model, context)\n\u001b[0;32m    646\u001b[0m         request_dict = self._serializer.serialize_to_request(\n\u001b[1;32m--> 647\u001b[1;33m             api_params, operation_model)\n\u001b[0m\u001b[0;32m    648\u001b[0m         \u001b[1;32mif\u001b[0m \u001b[1;32mnot\u001b[0m \u001b[0mself\u001b[0m\u001b[1;33m.\u001b[0m\u001b[0m_client_config\u001b[0m\u001b[1;33m.\u001b[0m\u001b[0minject_host_prefix\u001b[0m\u001b[1;33m:\u001b[0m\u001b[1;33m\u001b[0m\u001b[1;33m\u001b[0m\u001b[0m\n\u001b[0;32m    649\u001b[0m             \u001b[0mrequest_dict\u001b[0m\u001b[1;33m.\u001b[0m\u001b[0mpop\u001b[0m\u001b[1;33m(\u001b[0m\u001b[1;34m'host_prefix'\u001b[0m\u001b[1;33m,\u001b[0m \u001b[1;32mNone\u001b[0m\u001b[1;33m)\u001b[0m\u001b[1;33m\u001b[0m\u001b[1;33m\u001b[0m\u001b[0m\n",
      "\u001b[1;32mD:\\Anaconda3\\lib\\site-packages\\botocore\\validate.py\u001b[0m in \u001b[0;36mserialize_to_request\u001b[1;34m(self, parameters, operation_model)\u001b[0m\n\u001b[0;32m    295\u001b[0m                                                     operation_model.input_shape)\n\u001b[0;32m    296\u001b[0m             \u001b[1;32mif\u001b[0m \u001b[0mreport\u001b[0m\u001b[1;33m.\u001b[0m\u001b[0mhas_errors\u001b[0m\u001b[1;33m(\u001b[0m\u001b[1;33m)\u001b[0m\u001b[1;33m:\u001b[0m\u001b[1;33m\u001b[0m\u001b[1;33m\u001b[0m\u001b[0m\n\u001b[1;32m--> 297\u001b[1;33m                 \u001b[1;32mraise\u001b[0m \u001b[0mParamValidationError\u001b[0m\u001b[1;33m(\u001b[0m\u001b[0mreport\u001b[0m\u001b[1;33m=\u001b[0m\u001b[0mreport\u001b[0m\u001b[1;33m.\u001b[0m\u001b[0mgenerate_report\u001b[0m\u001b[1;33m(\u001b[0m\u001b[1;33m)\u001b[0m\u001b[1;33m)\u001b[0m\u001b[1;33m\u001b[0m\u001b[1;33m\u001b[0m\u001b[0m\n\u001b[0m\u001b[0;32m    298\u001b[0m         return self._serializer.serialize_to_request(parameters,\n\u001b[0;32m    299\u001b[0m                                                      operation_model)\n",
      "\u001b[1;31mParamValidationError\u001b[0m: Parameter validation failed:\nUnknown parameter in input: \"ApplicationName\", must be one of: EnvironmentId, EnvironmentName, TerminateResources, ForceTerminate"
     ]
    }
   ],
   "source": [
    "bs_client.terminate_environment(\n",
    "    ApplicationName=appName,\n",
    "    EnvironmentName=appEnv,\n",
    ")"
   ]
  },
  {
   "cell_type": "code",
   "execution_count": 54,
   "metadata": {},
   "outputs": [
    {
     "ename": "ClientError",
     "evalue": "An error occurred (InvalidParameterValue) when calling the DeleteEnvironmentConfiguration operation: Cannot delete the environment for application named CasaDoCodigoApp. The application is currently pending deletion.",
     "output_type": "error",
     "traceback": [
      "\u001b[1;31m---------------------------------------------------------------------------\u001b[0m",
      "\u001b[1;31mClientError\u001b[0m                               Traceback (most recent call last)",
      "\u001b[1;32m<ipython-input-54-7ae09eba51ef>\u001b[0m in \u001b[0;36m<module>\u001b[1;34m\u001b[0m\n\u001b[0;32m      1\u001b[0m bs_client.delete_environment_configuration(\n\u001b[0;32m      2\u001b[0m     \u001b[0mApplicationName\u001b[0m\u001b[1;33m=\u001b[0m\u001b[0mappName\u001b[0m\u001b[1;33m,\u001b[0m\u001b[1;33m\u001b[0m\u001b[1;33m\u001b[0m\u001b[0m\n\u001b[1;32m----> 3\u001b[1;33m     \u001b[0mEnvironmentName\u001b[0m\u001b[1;33m=\u001b[0m\u001b[0mappEnv\u001b[0m\u001b[1;33m\u001b[0m\u001b[1;33m\u001b[0m\u001b[0m\n\u001b[0m\u001b[0;32m      4\u001b[0m )\n",
      "\u001b[1;32mD:\\Anaconda3\\lib\\site-packages\\botocore\\client.py\u001b[0m in \u001b[0;36m_api_call\u001b[1;34m(self, *args, **kwargs)\u001b[0m\n\u001b[0;32m    314\u001b[0m                     \"%s() only accepts keyword arguments.\" % py_operation_name)\n\u001b[0;32m    315\u001b[0m             \u001b[1;31m# The \"self\" in this scope is referring to the BaseClient.\u001b[0m\u001b[1;33m\u001b[0m\u001b[1;33m\u001b[0m\u001b[1;33m\u001b[0m\u001b[0m\n\u001b[1;32m--> 316\u001b[1;33m             \u001b[1;32mreturn\u001b[0m \u001b[0mself\u001b[0m\u001b[1;33m.\u001b[0m\u001b[0m_make_api_call\u001b[0m\u001b[1;33m(\u001b[0m\u001b[0moperation_name\u001b[0m\u001b[1;33m,\u001b[0m \u001b[0mkwargs\u001b[0m\u001b[1;33m)\u001b[0m\u001b[1;33m\u001b[0m\u001b[1;33m\u001b[0m\u001b[0m\n\u001b[0m\u001b[0;32m    317\u001b[0m \u001b[1;33m\u001b[0m\u001b[0m\n\u001b[0;32m    318\u001b[0m         \u001b[0m_api_call\u001b[0m\u001b[1;33m.\u001b[0m\u001b[0m__name__\u001b[0m \u001b[1;33m=\u001b[0m \u001b[0mstr\u001b[0m\u001b[1;33m(\u001b[0m\u001b[0mpy_operation_name\u001b[0m\u001b[1;33m)\u001b[0m\u001b[1;33m\u001b[0m\u001b[1;33m\u001b[0m\u001b[0m\n",
      "\u001b[1;32mD:\\Anaconda3\\lib\\site-packages\\botocore\\client.py\u001b[0m in \u001b[0;36m_make_api_call\u001b[1;34m(self, operation_name, api_params)\u001b[0m\n\u001b[0;32m    624\u001b[0m             \u001b[0merror_code\u001b[0m \u001b[1;33m=\u001b[0m \u001b[0mparsed_response\u001b[0m\u001b[1;33m.\u001b[0m\u001b[0mget\u001b[0m\u001b[1;33m(\u001b[0m\u001b[1;34m\"Error\"\u001b[0m\u001b[1;33m,\u001b[0m \u001b[1;33m{\u001b[0m\u001b[1;33m}\u001b[0m\u001b[1;33m)\u001b[0m\u001b[1;33m.\u001b[0m\u001b[0mget\u001b[0m\u001b[1;33m(\u001b[0m\u001b[1;34m\"Code\"\u001b[0m\u001b[1;33m)\u001b[0m\u001b[1;33m\u001b[0m\u001b[1;33m\u001b[0m\u001b[0m\n\u001b[0;32m    625\u001b[0m             \u001b[0merror_class\u001b[0m \u001b[1;33m=\u001b[0m \u001b[0mself\u001b[0m\u001b[1;33m.\u001b[0m\u001b[0mexceptions\u001b[0m\u001b[1;33m.\u001b[0m\u001b[0mfrom_code\u001b[0m\u001b[1;33m(\u001b[0m\u001b[0merror_code\u001b[0m\u001b[1;33m)\u001b[0m\u001b[1;33m\u001b[0m\u001b[1;33m\u001b[0m\u001b[0m\n\u001b[1;32m--> 626\u001b[1;33m             \u001b[1;32mraise\u001b[0m \u001b[0merror_class\u001b[0m\u001b[1;33m(\u001b[0m\u001b[0mparsed_response\u001b[0m\u001b[1;33m,\u001b[0m \u001b[0moperation_name\u001b[0m\u001b[1;33m)\u001b[0m\u001b[1;33m\u001b[0m\u001b[1;33m\u001b[0m\u001b[0m\n\u001b[0m\u001b[0;32m    627\u001b[0m         \u001b[1;32melse\u001b[0m\u001b[1;33m:\u001b[0m\u001b[1;33m\u001b[0m\u001b[1;33m\u001b[0m\u001b[0m\n\u001b[0;32m    628\u001b[0m             \u001b[1;32mreturn\u001b[0m \u001b[0mparsed_response\u001b[0m\u001b[1;33m\u001b[0m\u001b[1;33m\u001b[0m\u001b[0m\n",
      "\u001b[1;31mClientError\u001b[0m: An error occurred (InvalidParameterValue) when calling the DeleteEnvironmentConfiguration operation: Cannot delete the environment for application named CasaDoCodigoApp. The application is currently pending deletion."
     ]
    }
   ],
   "source": [
    "bs_client.delete_environment_configuration(\n",
    "    ApplicationName=appName,\n",
    "    EnvironmentName=appEnv\n",
    ")"
   ]
  },
  {
   "cell_type": "markdown",
   "metadata": {},
   "source": [
    "Remove o application version"
   ]
  },
  {
   "cell_type": "code",
   "execution_count": 55,
   "metadata": {},
   "outputs": [
    {
     "ename": "ClientError",
     "evalue": "An error occurred (InvalidParameterValue) when calling the DeleteApplicationVersion operation: Cannot delete the version for application named CasaDoCodigoApp. The application is currently pending deletion.",
     "output_type": "error",
     "traceback": [
      "\u001b[1;31m---------------------------------------------------------------------------\u001b[0m",
      "\u001b[1;31mClientError\u001b[0m                               Traceback (most recent call last)",
      "\u001b[1;32m<ipython-input-55-0be1b598a4f3>\u001b[0m in \u001b[0;36m<module>\u001b[1;34m\u001b[0m\n\u001b[0;32m      2\u001b[0m     \u001b[0mApplicationName\u001b[0m\u001b[1;33m=\u001b[0m\u001b[0mappName\u001b[0m\u001b[1;33m,\u001b[0m\u001b[1;33m\u001b[0m\u001b[1;33m\u001b[0m\u001b[0m\n\u001b[0;32m      3\u001b[0m     \u001b[0mVersionLabel\u001b[0m\u001b[1;33m=\u001b[0m\u001b[0mmy_version\u001b[0m\u001b[1;33m,\u001b[0m\u001b[1;33m\u001b[0m\u001b[1;33m\u001b[0m\u001b[0m\n\u001b[1;32m----> 4\u001b[1;33m     \u001b[0mDeleteSourceBundle\u001b[0m\u001b[1;33m=\u001b[0m\u001b[1;32mFalse\u001b[0m\u001b[1;33m\u001b[0m\u001b[1;33m\u001b[0m\u001b[0m\n\u001b[0m\u001b[0;32m      5\u001b[0m )\n",
      "\u001b[1;32mD:\\Anaconda3\\lib\\site-packages\\botocore\\client.py\u001b[0m in \u001b[0;36m_api_call\u001b[1;34m(self, *args, **kwargs)\u001b[0m\n\u001b[0;32m    314\u001b[0m                     \"%s() only accepts keyword arguments.\" % py_operation_name)\n\u001b[0;32m    315\u001b[0m             \u001b[1;31m# The \"self\" in this scope is referring to the BaseClient.\u001b[0m\u001b[1;33m\u001b[0m\u001b[1;33m\u001b[0m\u001b[1;33m\u001b[0m\u001b[0m\n\u001b[1;32m--> 316\u001b[1;33m             \u001b[1;32mreturn\u001b[0m \u001b[0mself\u001b[0m\u001b[1;33m.\u001b[0m\u001b[0m_make_api_call\u001b[0m\u001b[1;33m(\u001b[0m\u001b[0moperation_name\u001b[0m\u001b[1;33m,\u001b[0m \u001b[0mkwargs\u001b[0m\u001b[1;33m)\u001b[0m\u001b[1;33m\u001b[0m\u001b[1;33m\u001b[0m\u001b[0m\n\u001b[0m\u001b[0;32m    317\u001b[0m \u001b[1;33m\u001b[0m\u001b[0m\n\u001b[0;32m    318\u001b[0m         \u001b[0m_api_call\u001b[0m\u001b[1;33m.\u001b[0m\u001b[0m__name__\u001b[0m \u001b[1;33m=\u001b[0m \u001b[0mstr\u001b[0m\u001b[1;33m(\u001b[0m\u001b[0mpy_operation_name\u001b[0m\u001b[1;33m)\u001b[0m\u001b[1;33m\u001b[0m\u001b[1;33m\u001b[0m\u001b[0m\n",
      "\u001b[1;32mD:\\Anaconda3\\lib\\site-packages\\botocore\\client.py\u001b[0m in \u001b[0;36m_make_api_call\u001b[1;34m(self, operation_name, api_params)\u001b[0m\n\u001b[0;32m    624\u001b[0m             \u001b[0merror_code\u001b[0m \u001b[1;33m=\u001b[0m \u001b[0mparsed_response\u001b[0m\u001b[1;33m.\u001b[0m\u001b[0mget\u001b[0m\u001b[1;33m(\u001b[0m\u001b[1;34m\"Error\"\u001b[0m\u001b[1;33m,\u001b[0m \u001b[1;33m{\u001b[0m\u001b[1;33m}\u001b[0m\u001b[1;33m)\u001b[0m\u001b[1;33m.\u001b[0m\u001b[0mget\u001b[0m\u001b[1;33m(\u001b[0m\u001b[1;34m\"Code\"\u001b[0m\u001b[1;33m)\u001b[0m\u001b[1;33m\u001b[0m\u001b[1;33m\u001b[0m\u001b[0m\n\u001b[0;32m    625\u001b[0m             \u001b[0merror_class\u001b[0m \u001b[1;33m=\u001b[0m \u001b[0mself\u001b[0m\u001b[1;33m.\u001b[0m\u001b[0mexceptions\u001b[0m\u001b[1;33m.\u001b[0m\u001b[0mfrom_code\u001b[0m\u001b[1;33m(\u001b[0m\u001b[0merror_code\u001b[0m\u001b[1;33m)\u001b[0m\u001b[1;33m\u001b[0m\u001b[1;33m\u001b[0m\u001b[0m\n\u001b[1;32m--> 626\u001b[1;33m             \u001b[1;32mraise\u001b[0m \u001b[0merror_class\u001b[0m\u001b[1;33m(\u001b[0m\u001b[0mparsed_response\u001b[0m\u001b[1;33m,\u001b[0m \u001b[0moperation_name\u001b[0m\u001b[1;33m)\u001b[0m\u001b[1;33m\u001b[0m\u001b[1;33m\u001b[0m\u001b[0m\n\u001b[0m\u001b[0;32m    627\u001b[0m         \u001b[1;32melse\u001b[0m\u001b[1;33m:\u001b[0m\u001b[1;33m\u001b[0m\u001b[1;33m\u001b[0m\u001b[0m\n\u001b[0;32m    628\u001b[0m             \u001b[1;32mreturn\u001b[0m \u001b[0mparsed_response\u001b[0m\u001b[1;33m\u001b[0m\u001b[1;33m\u001b[0m\u001b[0m\n",
      "\u001b[1;31mClientError\u001b[0m: An error occurred (InvalidParameterValue) when calling the DeleteApplicationVersion operation: Cannot delete the version for application named CasaDoCodigoApp. The application is currently pending deletion."
     ]
    }
   ],
   "source": [
    "bs_client.delete_application_version(\n",
    "    ApplicationName=appName,\n",
    "    VersionLabel=my_version,\n",
    "    DeleteSourceBundle=False\n",
    ")"
   ]
  },
  {
   "cell_type": "code",
   "execution_count": 56,
   "metadata": {},
   "outputs": [
    {
     "data": {
      "text/plain": [
       "{'ResponseMetadata': {'RequestId': '3ef77de9-214d-4f4e-98a7-67671cc348fa',\n",
       "  'HTTPStatusCode': 200,\n",
       "  'HTTPHeaders': {'content-type': 'text/xml',\n",
       "   'date': 'Sun, 24 May 2020 04:18:25 GMT',\n",
       "   'x-amzn-requestid': '3ef77de9-214d-4f4e-98a7-67671cc348fa',\n",
       "   'content-length': '227',\n",
       "   'connection': 'keep-alive'},\n",
       "  'RetryAttempts': 0}}"
      ]
     },
     "execution_count": 56,
     "metadata": {},
     "output_type": "execute_result"
    }
   ],
   "source": [
    "bs_client.delete_application(\n",
    "    ApplicationName=appName,\n",
    "    TerminateEnvByForce=True\n",
    ")"
   ]
  },
  {
   "cell_type": "markdown",
   "metadata": {},
   "source": [
    "## Limpando e removendo o Bucket"
   ]
  },
  {
   "cell_type": "code",
   "execution_count": 57,
   "metadata": {},
   "outputs": [
    {
     "data": {
      "text/plain": [
       "[{'ResponseMetadata': {'RequestId': '34B361DC2F797880',\n",
       "   'HostId': 'RHtEaAI8Z0NF9jM5rR7j9wc8tAossCCZD4yxMPWwwkzIyiuzCy1G6r6Pc3IO//1ak2EdeRVloyA=',\n",
       "   'HTTPStatusCode': 200,\n",
       "   'HTTPHeaders': {'x-amz-id-2': 'RHtEaAI8Z0NF9jM5rR7j9wc8tAossCCZD4yxMPWwwkzIyiuzCy1G6r6Pc3IO//1ak2EdeRVloyA=',\n",
       "    'x-amz-request-id': '34B361DC2F797880',\n",
       "    'date': 'Sun, 24 May 2020 04:18:58 GMT',\n",
       "    'connection': 'close',\n",
       "    'content-type': 'application/xml',\n",
       "    'transfer-encoding': 'chunked',\n",
       "    'server': 'AmazonS3'},\n",
       "   'RetryAttempts': 0},\n",
       "  'Deleted': [{'Key': 'resources/_runtime/_embedded_extensions/CasaDoCodigoApp/3239e60139db014506a1b3a1f791a418'},\n",
       "   {'Key': 'resources/environments/e-n7k3mtrmcw/_runtime/versions/manifest_1590293188087'},\n",
       "   {'Key': 'resources/environments/e-n7k3mtrmcw/_runtime/versions/manifest_1590292982163'},\n",
       "   {'Key': 'resources/environments/e-n7k3mtrmcw/_runtime/versions/manifest_1590291960521'},\n",
       "   {'Key': 'resources/environments/e-n7k3mtrmcw/_runtime/versions/manifest_1590292475910'},\n",
       "   {'Key': 'app/ROOT.war'},\n",
       "   {'Key': 'resources/environments/e-n7k3mtrmcw/_runtime/_embedded_extensions/CasaDoCodigoApp/3239e60139db014506a1b3a1f791a418'},\n",
       "   {'Key': '.elasticbeanstalk'},\n",
       "   {'Key': 'resources/environments/e-n7k3mtrmcw/_runtime/_versions/CasaDoCodigoApp/v1'}]}]"
      ]
     },
     "execution_count": 57,
     "metadata": {},
     "output_type": "execute_result"
    }
   ],
   "source": [
    "bucket = s3.Bucket(my_bucket)\n",
    "bucket.objects.all().delete()"
   ]
  },
  {
   "cell_type": "code",
   "execution_count": 60,
   "metadata": {},
   "outputs": [
    {
     "ename": "ClientError",
     "evalue": "An error occurred (AccessDenied) when calling the DeleteBucket operation: Access Denied",
     "output_type": "error",
     "traceback": [
      "\u001b[1;31m---------------------------------------------------------------------------\u001b[0m",
      "\u001b[1;31mClientError\u001b[0m                               Traceback (most recent call last)",
      "\u001b[1;32m<ipython-input-60-290b8010b812>\u001b[0m in \u001b[0;36m<module>\u001b[1;34m\u001b[0m\n\u001b[1;32m----> 1\u001b[1;33m \u001b[0ms3_client\u001b[0m\u001b[1;33m.\u001b[0m\u001b[0mdelete_bucket\u001b[0m\u001b[1;33m(\u001b[0m\u001b[0mBucket\u001b[0m\u001b[1;33m=\u001b[0m\u001b[0mmy_bucket\u001b[0m\u001b[1;33m)\u001b[0m\u001b[1;33m\u001b[0m\u001b[1;33m\u001b[0m\u001b[0m\n\u001b[0m",
      "\u001b[1;32mD:\\Anaconda3\\lib\\site-packages\\botocore\\client.py\u001b[0m in \u001b[0;36m_api_call\u001b[1;34m(self, *args, **kwargs)\u001b[0m\n\u001b[0;32m    314\u001b[0m                     \"%s() only accepts keyword arguments.\" % py_operation_name)\n\u001b[0;32m    315\u001b[0m             \u001b[1;31m# The \"self\" in this scope is referring to the BaseClient.\u001b[0m\u001b[1;33m\u001b[0m\u001b[1;33m\u001b[0m\u001b[1;33m\u001b[0m\u001b[0m\n\u001b[1;32m--> 316\u001b[1;33m             \u001b[1;32mreturn\u001b[0m \u001b[0mself\u001b[0m\u001b[1;33m.\u001b[0m\u001b[0m_make_api_call\u001b[0m\u001b[1;33m(\u001b[0m\u001b[0moperation_name\u001b[0m\u001b[1;33m,\u001b[0m \u001b[0mkwargs\u001b[0m\u001b[1;33m)\u001b[0m\u001b[1;33m\u001b[0m\u001b[1;33m\u001b[0m\u001b[0m\n\u001b[0m\u001b[0;32m    317\u001b[0m \u001b[1;33m\u001b[0m\u001b[0m\n\u001b[0;32m    318\u001b[0m         \u001b[0m_api_call\u001b[0m\u001b[1;33m.\u001b[0m\u001b[0m__name__\u001b[0m \u001b[1;33m=\u001b[0m \u001b[0mstr\u001b[0m\u001b[1;33m(\u001b[0m\u001b[0mpy_operation_name\u001b[0m\u001b[1;33m)\u001b[0m\u001b[1;33m\u001b[0m\u001b[1;33m\u001b[0m\u001b[0m\n",
      "\u001b[1;32mD:\\Anaconda3\\lib\\site-packages\\botocore\\client.py\u001b[0m in \u001b[0;36m_make_api_call\u001b[1;34m(self, operation_name, api_params)\u001b[0m\n\u001b[0;32m    624\u001b[0m             \u001b[0merror_code\u001b[0m \u001b[1;33m=\u001b[0m \u001b[0mparsed_response\u001b[0m\u001b[1;33m.\u001b[0m\u001b[0mget\u001b[0m\u001b[1;33m(\u001b[0m\u001b[1;34m\"Error\"\u001b[0m\u001b[1;33m,\u001b[0m \u001b[1;33m{\u001b[0m\u001b[1;33m}\u001b[0m\u001b[1;33m)\u001b[0m\u001b[1;33m.\u001b[0m\u001b[0mget\u001b[0m\u001b[1;33m(\u001b[0m\u001b[1;34m\"Code\"\u001b[0m\u001b[1;33m)\u001b[0m\u001b[1;33m\u001b[0m\u001b[1;33m\u001b[0m\u001b[0m\n\u001b[0;32m    625\u001b[0m             \u001b[0merror_class\u001b[0m \u001b[1;33m=\u001b[0m \u001b[0mself\u001b[0m\u001b[1;33m.\u001b[0m\u001b[0mexceptions\u001b[0m\u001b[1;33m.\u001b[0m\u001b[0mfrom_code\u001b[0m\u001b[1;33m(\u001b[0m\u001b[0merror_code\u001b[0m\u001b[1;33m)\u001b[0m\u001b[1;33m\u001b[0m\u001b[1;33m\u001b[0m\u001b[0m\n\u001b[1;32m--> 626\u001b[1;33m             \u001b[1;32mraise\u001b[0m \u001b[0merror_class\u001b[0m\u001b[1;33m(\u001b[0m\u001b[0mparsed_response\u001b[0m\u001b[1;33m,\u001b[0m \u001b[0moperation_name\u001b[0m\u001b[1;33m)\u001b[0m\u001b[1;33m\u001b[0m\u001b[1;33m\u001b[0m\u001b[0m\n\u001b[0m\u001b[0;32m    627\u001b[0m         \u001b[1;32melse\u001b[0m\u001b[1;33m:\u001b[0m\u001b[1;33m\u001b[0m\u001b[1;33m\u001b[0m\u001b[0m\n\u001b[0;32m    628\u001b[0m             \u001b[1;32mreturn\u001b[0m \u001b[0mparsed_response\u001b[0m\u001b[1;33m\u001b[0m\u001b[1;33m\u001b[0m\u001b[0m\n",
      "\u001b[1;31mClientError\u001b[0m: An error occurred (AccessDenied) when calling the DeleteBucket operation: Access Denied"
     ]
    }
   ],
   "source": [
    "s3_client.delete_bucket(Bucket=my_bucket)"
   ]
  },
  {
   "cell_type": "code",
   "execution_count": null,
   "metadata": {},
   "outputs": [],
   "source": []
  },
  {
   "cell_type": "code",
   "execution_count": null,
   "metadata": {},
   "outputs": [],
   "source": []
  }
 ],
 "metadata": {
  "kernelspec": {
   "display_name": "Python 3",
   "language": "python",
   "name": "python3"
  },
  "language_info": {
   "codemirror_mode": {
    "name": "ipython",
    "version": 3
   },
   "file_extension": ".py",
   "mimetype": "text/x-python",
   "name": "python",
   "nbconvert_exporter": "python",
   "pygments_lexer": "ipython3",
   "version": "3.7.4"
  }
 },
 "nbformat": 4,
 "nbformat_minor": 2
}
